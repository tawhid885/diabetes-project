{
 "cells": [
  {
   "cell_type": "code",
   "execution_count": 55,
   "id": "e69be795",
   "metadata": {},
   "outputs": [],
   "source": [
    "import pandas as pd\n",
    "import numpy as np\n",
    "from sklearn.model_selection import KFold, cross_val_score, train_test_split\n",
    "from sklearn.feature_selection import mutual_info_regression\n",
    "from sklearn import metrics\n",
    "from sklearn.metrics import accuracy_score, roc_auc_score, roc_curve\n",
    "from sklearn.cluster import KMeans\n",
    "import optuna\n",
    "from xgboost import XGBClassifier\n",
    "from sklearn.ensemble import RandomForestClassifier\n",
    "import matplotlib.pyplot as plt\n",
    "from kneed import KneeLocator"
   ]
  },
  {
   "cell_type": "code",
   "execution_count": 2,
   "id": "60f111f7",
   "metadata": {},
   "outputs": [],
   "source": [
    "def load_data():\n",
    "    df = pd.read_csv(\"diabetes.csv\")\n",
    "    copy_df = df.copy()\n",
    "    \n",
    "    clean(copy_df)\n",
    "    \n",
    "    return copy_df"
   ]
  },
  {
   "cell_type": "code",
   "execution_count": 3,
   "id": "a5d0adbf",
   "metadata": {},
   "outputs": [],
   "source": [
    "def clean(df):\n",
    "    for col in df:\n",
    "        df[col].fillna(df[col].mean(), inplace = True)\n",
    "    return df"
   ]
  },
  {
   "cell_type": "code",
   "execution_count": 4,
   "id": "2618a918",
   "metadata": {},
   "outputs": [],
   "source": [
    "copy_df = load_data()"
   ]
  },
  {
   "cell_type": "code",
   "execution_count": 5,
   "id": "19e9ce9d",
   "metadata": {},
   "outputs": [
    {
     "data": {
      "text/plain": [
       "(768, 9)"
      ]
     },
     "execution_count": 5,
     "metadata": {},
     "output_type": "execute_result"
    }
   ],
   "source": [
    "copy_df.shape"
   ]
  },
  {
   "cell_type": "code",
   "execution_count": 6,
   "id": "12bd0b10",
   "metadata": {},
   "outputs": [],
   "source": [
    "def score(X, y, model):\n",
    "    k_fold = KFold(n_splits = 5, shuffle=True, random_state = 42)\n",
    "    score = cross_val_score(model, X, y, cv= k_fold, scoring = 'accuracy')\n",
    "    score = score.mean()\n",
    "    return score"
   ]
  },
  {
   "cell_type": "code",
   "execution_count": 7,
   "id": "36a0f213",
   "metadata": {},
   "outputs": [],
   "source": [
    "model = XGBClassifier()"
   ]
  },
  {
   "cell_type": "code",
   "execution_count": 8,
   "id": "70c80311",
   "metadata": {},
   "outputs": [],
   "source": [
    "features = ['Pregnancies', 'Glucose', 'BloodPressure', 'SkinThickness', 'Insulin',\n",
    "       'BMI', 'DiabetesPedigreeFunction', 'Age']\n",
    "X = copy_df[features]\n",
    "y = copy_df['Outcome']\n",
    "train_x, test_x, train_y, test_y = train_test_split(X, y)"
   ]
  },
  {
   "cell_type": "code",
   "execution_count": 9,
   "id": "8075ea30",
   "metadata": {},
   "outputs": [],
   "source": [
    "baseline_score = score(train_x, train_y, model)"
   ]
  },
  {
   "cell_type": "code",
   "execution_count": 10,
   "id": "d8279a03",
   "metadata": {},
   "outputs": [
    {
     "name": "stdout",
     "output_type": "stream",
     "text": [
      "Baseline score is 0.7447376311844078\n"
     ]
    }
   ],
   "source": [
    "print(f\"Baseline score is {baseline_score}\")"
   ]
  },
  {
   "cell_type": "code",
   "execution_count": 11,
   "id": "183e797f",
   "metadata": {},
   "outputs": [],
   "source": [
    "model.fit(train_x, train_y)\n",
    "prediction = model.predict(test_x)"
   ]
  },
  {
   "cell_type": "code",
   "execution_count": 12,
   "id": "a5849719",
   "metadata": {},
   "outputs": [
    {
     "data": {
      "text/plain": [
       "array([0, 0, 0, 1, 0, 0, 0, 1, 0, 1, 0, 0, 0, 1, 0, 0, 0, 0, 0, 0, 1, 0,\n",
       "       1, 1, 0, 1, 1, 0, 0, 1, 0, 0, 1, 0, 0, 0, 0, 0, 1, 0, 1, 0, 0, 1,\n",
       "       0, 1, 1, 0, 0, 0, 0, 0, 1, 0, 1, 0, 0, 0, 0, 0, 1, 0, 0, 0, 1, 0,\n",
       "       0, 0, 0, 1, 0, 0, 0, 1, 0, 0, 0, 0, 1, 0, 1, 0, 1, 0, 0, 0, 0, 0,\n",
       "       0, 0, 1, 0, 0, 0, 1, 1, 0, 0, 1, 1, 1, 0, 0, 0, 0, 0, 0, 0, 0, 0,\n",
       "       1, 0, 0, 0, 1, 0, 1, 0, 0, 0, 0, 0, 1, 0, 0, 0, 0, 1, 1, 0, 0, 0,\n",
       "       0, 1, 0, 0, 0, 0, 1, 1, 0, 0, 1, 1, 0, 1, 0, 1, 0, 0, 0, 0, 0, 0,\n",
       "       0, 0, 0, 0, 0, 1, 0, 0, 1, 1, 0, 0, 0, 1, 0, 0, 0, 0, 1, 1, 0, 0,\n",
       "       1, 1, 0, 1, 0, 0, 0, 0, 0, 0, 0, 0, 1, 1, 0, 0])"
      ]
     },
     "execution_count": 12,
     "metadata": {},
     "output_type": "execute_result"
    }
   ],
   "source": [
    "prediction"
   ]
  },
  {
   "cell_type": "code",
   "execution_count": 13,
   "id": "6fb79b2a",
   "metadata": {},
   "outputs": [],
   "source": [
    "confusion_matrix = metrics.confusion_matrix(test_y, prediction)"
   ]
  },
  {
   "cell_type": "code",
   "execution_count": 14,
   "id": "d1bca24e",
   "metadata": {},
   "outputs": [
    {
     "data": {
      "text/plain": [
       "array([[102,  18],\n",
       "       [ 35,  37]])"
      ]
     },
     "execution_count": 14,
     "metadata": {},
     "output_type": "execute_result"
    }
   ],
   "source": [
    "confusion_matrix"
   ]
  },
  {
   "cell_type": "code",
   "execution_count": 15,
   "id": "037ed003",
   "metadata": {
    "scrolled": true
   },
   "outputs": [
    {
     "data": {
      "image/png": "[encoded data removed]",
      "text/plain": [
       "<Figure size 640x480 with 2 Axes>"
      ]
     },
     "metadata": {},
     "output_type": "display_data"
    }
   ],
   "source": [
    "cm_display = metrics.ConfusionMatrixDisplay(confusion_matrix = confusion_matrix, display_labels=[False, True])\n",
    "cm_display.plot()\n",
    "plt.show()"
   ]
  },
  {
   "cell_type": "code",
   "execution_count": 16,
   "id": "e95bc88e",
   "metadata": {},
   "outputs": [
    {
     "name": "stdout",
     "output_type": "stream",
     "text": [
      "Random forest score 0.7447376311844078\n"
     ]
    }
   ],
   "source": [
    "model_1 = RandomForestClassifier()\n",
    "score = score(train_x, train_y, model)\n",
    "print(f\"Random forest score {score}\")"
   ]
  },
  {
   "cell_type": "code",
   "execution_count": 17,
   "id": "377b60c2",
   "metadata": {},
   "outputs": [],
   "source": [
    "model_1.fit(train_x, train_y)\n",
    "prediction_1 = model_1.predict(test_x)"
   ]
  },
  {
   "cell_type": "code",
   "execution_count": 18,
   "id": "88aa9274",
   "metadata": {},
   "outputs": [
    {
     "data": {
      "text/plain": [
       "array([[110,  10],\n",
       "       [ 36,  36]])"
      ]
     },
     "execution_count": 18,
     "metadata": {},
     "output_type": "execute_result"
    }
   ],
   "source": [
    "confusion_matrix = metrics.confusion_matrix(test_y, prediction_1)\n",
    "confusion_matrix"
   ]
  },
  {
   "cell_type": "code",
   "execution_count": 19,
   "id": "5ed8330f",
   "metadata": {},
   "outputs": [],
   "source": [
    "def make_mi_score(X, y):\n",
    "    mi_score = mutual_info_regression(X, y, random_state= 0)\n",
    "    mi_score = pd.Series(mi_score, name = \"MI Scores\", index = X.columns)\n",
    "    mi_score = mi_score.sort_values(ascending = False)\n",
    "    \n",
    "    return mi_score"
   ]
  },
  {
   "cell_type": "code",
   "execution_count": 20,
   "id": "69ccae24",
   "metadata": {},
   "outputs": [
    {
     "data": {
      "text/plain": [
       "Glucose                     0.117058\n",
       "BMI                         0.094686\n",
       "Pregnancies                 0.059932\n",
       "SkinThickness               0.045706\n",
       "Age                         0.040773\n",
       "BloodPressure               0.024051\n",
       "Insulin                     0.023978\n",
       "DiabetesPedigreeFunction    0.005720\n",
       "Name: MI Scores, dtype: float64"
      ]
     },
     "execution_count": 20,
     "metadata": {},
     "output_type": "execute_result"
    }
   ],
   "source": [
    "mi_result = make_mi_score(train_x, train_y)\n",
    "mi_result"
   ]
  },
  {
   "cell_type": "code",
   "execution_count": 21,
   "id": "ad690148",
   "metadata": {},
   "outputs": [
    {
     "name": "stderr",
     "output_type": "stream",
     "text": [
      "/home/tawhid885/.local/lib/python3.10/site-packages/sklearn/cluster/_kmeans.py:1412: FutureWarning: The default value of `n_init` will change from 10 to 'auto' in 1.4. Set the value of `n_init` explicitly to suppress the warning\n",
      "  super()._check_params_vs_input(X, default_n_init=10)\n"
     ]
    },
    {
     "data": {
      "text/html": [
       "<style>#sk-container-id-1 {color: black;}#sk-container-id-1 pre{padding: 0;}#sk-container-id-1 div.sk-toggleable {background-color: white;}#sk-container-id-1 label.sk-toggleable__label {cursor: pointer;display: block;width: 100%;margin-bottom: 0;padding: 0.3em;box-sizing: border-box;text-align: center;}#sk-container-id-1 label.sk-toggleable__label-arrow:before {content: \"▸\";float: left;margin-right: 0.25em;color: #696969;}#sk-container-id-1 label.sk-toggleable__label-arrow:hover:before {color: black;}#sk-container-id-1 div.sk-estimator:hover label.sk-toggleable__label-arrow:before {color: black;}#sk-container-id-1 div.sk-toggleable__content {max-height: 0;max-width: 0;overflow: hidden;text-align: left;background-color: #f0f8ff;}#sk-container-id-1 div.sk-toggleable__content pre {margin: 0.2em;color: black;border-radius: 0.25em;background-color: #f0f8ff;}#sk-container-id-1 input.sk-toggleable__control:checked~div.sk-toggleable__content {max-height: 200px;max-width: 100%;overflow: auto;}#sk-container-id-1 input.sk-toggleable__control:checked~label.sk-toggleable__label-arrow:before {content: \"▾\";}#sk-container-id-1 div.sk-estimator input.sk-toggleable__control:checked~label.sk-toggleable__label {background-color: #d4ebff;}#sk-container-id-1 div.sk-label input.sk-toggleable__control:checked~label.sk-toggleable__label {background-color: #d4ebff;}#sk-container-id-1 input.sk-hidden--visually {border: 0;clip: rect(1px 1px 1px 1px);clip: rect(1px, 1px, 1px, 1px);height: 1px;margin: -1px;overflow: hidden;padding: 0;position: absolute;width: 1px;}#sk-container-id-1 div.sk-estimator {font-family: monospace;background-color: #f0f8ff;border: 1px dotted black;border-radius: 0.25em;box-sizing: border-box;margin-bottom: 0.5em;}#sk-container-id-1 div.sk-estimator:hover {background-color: #d4ebff;}#sk-container-id-1 div.sk-parallel-item::after {content: \"\";width: 100%;border-bottom: 1px solid gray;flex-grow: 1;}#sk-container-id-1 div.sk-label:hover label.sk-toggleable__label {background-color: #d4ebff;}#sk-container-id-1 div.sk-serial::before {content: \"\";position: absolute;border-left: 1px solid gray;box-sizing: border-box;top: 0;bottom: 0;left: 50%;z-index: 0;}#sk-container-id-1 div.sk-serial {display: flex;flex-direction: column;align-items: center;background-color: white;padding-right: 0.2em;padding-left: 0.2em;position: relative;}#sk-container-id-1 div.sk-item {position: relative;z-index: 1;}#sk-container-id-1 div.sk-parallel {display: flex;align-items: stretch;justify-content: center;background-color: white;position: relative;}#sk-container-id-1 div.sk-item::before, #sk-container-id-1 div.sk-parallel-item::before {content: \"\";position: absolute;border-left: 1px solid gray;box-sizing: border-box;top: 0;bottom: 0;left: 50%;z-index: -1;}#sk-container-id-1 div.sk-parallel-item {display: flex;flex-direction: column;z-index: 1;position: relative;background-color: white;}#sk-container-id-1 div.sk-parallel-item:first-child::after {align-self: flex-end;width: 50%;}#sk-container-id-1 div.sk-parallel-item:last-child::after {align-self: flex-start;width: 50%;}#sk-container-id-1 div.sk-parallel-item:only-child::after {width: 0;}#sk-container-id-1 div.sk-dashed-wrapped {border: 1px dashed gray;margin: 0 0.4em 0.5em 0.4em;box-sizing: border-box;padding-bottom: 0.4em;background-color: white;}#sk-container-id-1 div.sk-label label {font-family: monospace;font-weight: bold;display: inline-block;line-height: 1.2em;}#sk-container-id-1 div.sk-label-container {text-align: center;}#sk-container-id-1 div.sk-container {/* jupyter's `normalize.less` sets `[hidden] { display: none; }` but bootstrap.min.css set `[hidden] { display: none !important; }` so we also need the `!important` here to be able to override the default hidden behavior on the sphinx rendered scikit-learn.org. See: https://github.com/scikit-learn/scikit-learn/issues/21755 */display: inline-block !important;position: relative;}#sk-container-id-1 div.sk-text-repr-fallback {display: none;}</style><div id=\"sk-container-id-1\" class=\"sk-top-container\"><div class=\"sk-text-repr-fallback\"><pre>KMeans()</pre><b>In a Jupyter environment, please rerun this cell to show the HTML representation or trust the notebook. <br />On GitHub, the HTML representation is unable to render, please try loading this page with nbviewer.org.</b></div><div class=\"sk-container\" hidden><div class=\"sk-item\"><div class=\"sk-estimator sk-toggleable\"><input class=\"sk-toggleable__control sk-hidden--visually\" id=\"sk-estimator-id-1\" type=\"checkbox\" checked><label for=\"sk-estimator-id-1\" class=\"sk-toggleable__label sk-toggleable__label-arrow\">KMeans</label><div class=\"sk-toggleable__content\"><pre>KMeans()</pre></div></div></div></div></div>"
      ],
      "text/plain": [
       "KMeans()"
      ]
     },
     "execution_count": 21,
     "metadata": {},
     "output_type": "execute_result"
    }
   ],
   "source": [
    "cluster_df = copy_df.copy()\n",
    "km = KMeans()\n",
    "km.fit(cluster_df[['Glucose', 'Insulin',\n",
    "       'BMI', 'Age']])"
   ]
  },
  {
   "cell_type": "code",
   "execution_count": 22,
   "id": "1a825bcb",
   "metadata": {},
   "outputs": [],
   "source": [
    "cluster_predict = km.predict(cluster_df[['Glucose', 'Insulin',\n",
    "       'BMI', 'Age']])"
   ]
  },
  {
   "cell_type": "code",
   "execution_count": 23,
   "id": "f2ecfe95",
   "metadata": {},
   "outputs": [
    {
     "data": {
      "text/plain": [
       "(768,)"
      ]
     },
     "execution_count": 23,
     "metadata": {},
     "output_type": "execute_result"
    }
   ],
   "source": [
    "cluster_predict.shape"
   ]
  },
  {
   "cell_type": "code",
   "execution_count": 24,
   "id": "b465c0d3",
   "metadata": {},
   "outputs": [],
   "source": [
    "cluster_df['cluster'] = cluster_predict"
   ]
  },
  {
   "cell_type": "code",
   "execution_count": 25,
   "id": "e91ed5aa",
   "metadata": {},
   "outputs": [
    {
     "data": {
      "text/plain": [
       "Index(['Pregnancies', 'Glucose', 'BloodPressure', 'SkinThickness', 'Insulin',\n",
       "       'BMI', 'DiabetesPedigreeFunction', 'Age', 'Outcome', 'cluster'],\n",
       "      dtype='object')"
      ]
     },
     "execution_count": 25,
     "metadata": {},
     "output_type": "execute_result"
    }
   ],
   "source": [
    "cluster_df.columns"
   ]
  },
  {
   "cell_type": "code",
   "execution_count": 26,
   "id": "253d87c2",
   "metadata": {},
   "outputs": [
    {
     "data": {
      "text/plain": [
       "array([6, 1, 3, 4, 2, 5, 0, 7], dtype=int32)"
      ]
     },
     "execution_count": 26,
     "metadata": {},
     "output_type": "execute_result"
    }
   ],
   "source": [
    "cluster_df['cluster'].unique()"
   ]
  },
  {
   "cell_type": "code",
   "execution_count": 27,
   "id": "fd3ae779",
   "metadata": {},
   "outputs": [
    {
     "name": "stderr",
     "output_type": "stream",
     "text": [
      "/home/tawhid885/.local/lib/python3.10/site-packages/sklearn/cluster/_kmeans.py:1412: FutureWarning: The default value of `n_init` will change from 10 to 'auto' in 1.4. Set the value of `n_init` explicitly to suppress the warning\n",
      "  super()._check_params_vs_input(X, default_n_init=10)\n",
      "/home/tawhid885/.local/lib/python3.10/site-packages/sklearn/cluster/_kmeans.py:1412: FutureWarning: The default value of `n_init` will change from 10 to 'auto' in 1.4. Set the value of `n_init` explicitly to suppress the warning\n",
      "  super()._check_params_vs_input(X, default_n_init=10)\n",
      "/home/tawhid885/.local/lib/python3.10/site-packages/sklearn/cluster/_kmeans.py:1412: FutureWarning: The default value of `n_init` will change from 10 to 'auto' in 1.4. Set the value of `n_init` explicitly to suppress the warning\n",
      "  super()._check_params_vs_input(X, default_n_init=10)\n",
      "/home/tawhid885/.local/lib/python3.10/site-packages/sklearn/cluster/_kmeans.py:1412: FutureWarning: The default value of `n_init` will change from 10 to 'auto' in 1.4. Set the value of `n_init` explicitly to suppress the warning\n",
      "  super()._check_params_vs_input(X, default_n_init=10)\n",
      "/home/tawhid885/.local/lib/python3.10/site-packages/sklearn/cluster/_kmeans.py:1412: FutureWarning: The default value of `n_init` will change from 10 to 'auto' in 1.4. Set the value of `n_init` explicitly to suppress the warning\n",
      "  super()._check_params_vs_input(X, default_n_init=10)\n",
      "/home/tawhid885/.local/lib/python3.10/site-packages/sklearn/cluster/_kmeans.py:1412: FutureWarning: The default value of `n_init` will change from 10 to 'auto' in 1.4. Set the value of `n_init` explicitly to suppress the warning\n",
      "  super()._check_params_vs_input(X, default_n_init=10)\n",
      "/home/tawhid885/.local/lib/python3.10/site-packages/sklearn/cluster/_kmeans.py:1412: FutureWarning: The default value of `n_init` will change from 10 to 'auto' in 1.4. Set the value of `n_init` explicitly to suppress the warning\n",
      "  super()._check_params_vs_input(X, default_n_init=10)\n",
      "/home/tawhid885/.local/lib/python3.10/site-packages/sklearn/cluster/_kmeans.py:1412: FutureWarning: The default value of `n_init` will change from 10 to 'auto' in 1.4. Set the value of `n_init` explicitly to suppress the warning\n",
      "  super()._check_params_vs_input(X, default_n_init=10)\n",
      "/home/tawhid885/.local/lib/python3.10/site-packages/sklearn/cluster/_kmeans.py:1412: FutureWarning: The default value of `n_init` will change from 10 to 'auto' in 1.4. Set the value of `n_init` explicitly to suppress the warning\n",
      "  super()._check_params_vs_input(X, default_n_init=10)\n",
      "/home/tawhid885/.local/lib/python3.10/site-packages/sklearn/cluster/_kmeans.py:1412: FutureWarning: The default value of `n_init` will change from 10 to 'auto' in 1.4. Set the value of `n_init` explicitly to suppress the warning\n",
      "  super()._check_params_vs_input(X, default_n_init=10)\n",
      "/home/tawhid885/.local/lib/python3.10/site-packages/sklearn/cluster/_kmeans.py:1412: FutureWarning: The default value of `n_init` will change from 10 to 'auto' in 1.4. Set the value of `n_init` explicitly to suppress the warning\n",
      "  super()._check_params_vs_input(X, default_n_init=10)\n",
      "/home/tawhid885/.local/lib/python3.10/site-packages/sklearn/cluster/_kmeans.py:1412: FutureWarning: The default value of `n_init` will change from 10 to 'auto' in 1.4. Set the value of `n_init` explicitly to suppress the warning\n",
      "  super()._check_params_vs_input(X, default_n_init=10)\n",
      "/home/tawhid885/.local/lib/python3.10/site-packages/sklearn/cluster/_kmeans.py:1412: FutureWarning: The default value of `n_init` will change from 10 to 'auto' in 1.4. Set the value of `n_init` explicitly to suppress the warning\n",
      "  super()._check_params_vs_input(X, default_n_init=10)\n",
      "/home/tawhid885/.local/lib/python3.10/site-packages/sklearn/cluster/_kmeans.py:1412: FutureWarning: The default value of `n_init` will change from 10 to 'auto' in 1.4. Set the value of `n_init` explicitly to suppress the warning\n",
      "  super()._check_params_vs_input(X, default_n_init=10)\n"
     ]
    },
    {
     "data": {
      "text/plain": [
       "[11124484.72071614,\n",
       " 4677406.028924948,\n",
       " 2467358.652936996,\n",
       " 1716734.0965839815,\n",
       " 1308327.396698884,\n",
       " 1044506.4074491566,\n",
       " 878793.5495888223,\n",
       " 743968.3204474181,\n",
       " 670038.9300949039,\n",
       " 607003.1145746903,\n",
       " 552330.5420060584,\n",
       " 515978.5709276804,\n",
       " 481636.3989320992,\n",
       " 451543.82786310225]"
      ]
     },
     "execution_count": 27,
     "metadata": {},
     "output_type": "execute_result"
    }
   ],
   "source": [
    "wcss = []\n",
    "cluster_range= (range(1,15))\n",
    "for k in cluster_range:\n",
    "    km2 = KMeans(n_clusters = k)\n",
    "    km2.fit(cluster_df[['Glucose', 'Insulin',\n",
    "       'BMI', 'Age']])\n",
    "    wcss.append(km2.inertia_)\n",
    "\n",
    "wcss"
   ]
  },
  {
   "cell_type": "code",
   "execution_count": 28,
   "id": "7f44ee0f",
   "metadata": {},
   "outputs": [
    {
     "data": {
      "text/plain": [
       "Text(0, 0.5, 'wcss')"
      ]
     },
     "execution_count": 28,
     "metadata": {},
     "output_type": "execute_result"
    },
    {
     "data": {
      "image/png": "[encoded data removed]",
      "text/plain": [
       "<Figure size 640x480 with 1 Axes>"
      ]
     },
     "metadata": {},
     "output_type": "display_data"
    }
   ],
   "source": [
    "plt.plot(cluster_range, wcss, marker=\"o\")\n",
    "plt.xlabel(\"Cluster range\")\n",
    "plt.ylabel(\"wcss\")"
   ]
  },
  {
   "cell_type": "code",
   "execution_count": 29,
   "id": "24521fd1",
   "metadata": {},
   "outputs": [
    {
     "data": {
      "image/png": "[encoded data removed]",
      "text/plain": [
       "<Figure size 600x600 with 1 Axes>"
      ]
     },
     "metadata": {},
     "output_type": "display_data"
    }
   ],
   "source": [
    "kn = KneeLocator(cluster_range, wcss, curve = \"convex\", direction= \"decreasing\")\n",
    "kn.plot_knee()"
   ]
  },
  {
   "cell_type": "code",
   "execution_count": 30,
   "id": "2e67a8e9",
   "metadata": {},
   "outputs": [
    {
     "name": "stderr",
     "output_type": "stream",
     "text": [
      "/home/tawhid885/.local/lib/python3.10/site-packages/sklearn/cluster/_kmeans.py:1412: FutureWarning: The default value of `n_init` will change from 10 to 'auto' in 1.4. Set the value of `n_init` explicitly to suppress the warning\n",
      "  super()._check_params_vs_input(X, default_n_init=10)\n"
     ]
    }
   ],
   "source": [
    "optimize_km = KMeans(n_clusters = 3)\n",
    "optimize_km.fit(cluster_df[['Glucose', 'Insulin',\n",
    "       'BMI', 'Age']])\n",
    "cluster_df['optimize_cluster'] = optimize_km.predict(cluster_df[['Glucose', 'Insulin',\n",
    "       'BMI', 'Age']])\n",
    "cluster_df.drop(\"cluster\", axis =1, inplace = True)"
   ]
  },
  {
   "cell_type": "code",
   "execution_count": 31,
   "id": "15ab6770",
   "metadata": {},
   "outputs": [
    {
     "data": {
      "text/plain": [
       "Index(['Pregnancies', 'Glucose', 'BloodPressure', 'SkinThickness', 'Insulin',\n",
       "       'BMI', 'DiabetesPedigreeFunction', 'Age', 'Outcome',\n",
       "       'optimize_cluster'],\n",
       "      dtype='object')"
      ]
     },
     "execution_count": 31,
     "metadata": {},
     "output_type": "execute_result"
    }
   ],
   "source": [
    "cluster_df.columns"
   ]
  },
  {
   "cell_type": "code",
   "execution_count": 32,
   "id": "57d38c78",
   "metadata": {},
   "outputs": [
    {
     "data": {
      "text/plain": [
       "array([1, 0, 2], dtype=int32)"
      ]
     },
     "execution_count": 32,
     "metadata": {},
     "output_type": "execute_result"
    }
   ],
   "source": [
    "cluster_df['optimize_cluster'].unique()"
   ]
  },
  {
   "cell_type": "code",
   "execution_count": 33,
   "id": "33bdad18",
   "metadata": {
    "scrolled": true
   },
   "outputs": [
    {
     "data": {
      "text/plain": [
       "(768, 10)"
      ]
     },
     "execution_count": 33,
     "metadata": {},
     "output_type": "execute_result"
    }
   ],
   "source": [
    "cluster_df.shape"
   ]
  },
  {
   "cell_type": "code",
   "execution_count": 34,
   "id": "9eba4ff6",
   "metadata": {},
   "outputs": [
    {
     "data": {
      "text/plain": [
       "Index(['Pregnancies', 'Glucose', 'BloodPressure', 'SkinThickness', 'Insulin',\n",
       "       'BMI', 'DiabetesPedigreeFunction', 'Age', 'Outcome',\n",
       "       'optimize_cluster'],\n",
       "      dtype='object')"
      ]
     },
     "execution_count": 34,
     "metadata": {},
     "output_type": "execute_result"
    }
   ],
   "source": [
    "cluster_df.columns"
   ]
  },
  {
   "cell_type": "code",
   "execution_count": 35,
   "id": "864fbd70",
   "metadata": {},
   "outputs": [],
   "source": [
    "X = cluster_df.copy()\n",
    "y = X.pop('Outcome')"
   ]
  },
  {
   "cell_type": "code",
   "execution_count": 36,
   "id": "10ab8406",
   "metadata": {},
   "outputs": [],
   "source": [
    "train_x, test_x, train_y, test_y = train_test_split(X, y)"
   ]
  },
  {
   "cell_type": "code",
   "execution_count": 37,
   "id": "8d0e217a",
   "metadata": {},
   "outputs": [
    {
     "ename": "TypeError",
     "evalue": "'numpy.float64' object is not callable",
     "output_type": "error",
     "traceback": [
      "\u001b[0;31m---------------------------------------------------------------------------\u001b[0m",
      "\u001b[0;31mTypeError\u001b[0m                                 Traceback (most recent call last)",
      "Cell \u001b[0;32mIn[37], line 1\u001b[0m\n\u001b[0;32m----> 1\u001b[0m score \u001b[38;5;241m=\u001b[39m \u001b[43mscore\u001b[49m\u001b[43m(\u001b[49m\u001b[43mtrain_x\u001b[49m\u001b[43m,\u001b[49m\u001b[43m \u001b[49m\u001b[43mtrain_y\u001b[49m\u001b[43m,\u001b[49m\u001b[43m \u001b[49m\u001b[43mmodel\u001b[49m\u001b[43m)\u001b[49m\n",
      "\u001b[0;31mTypeError\u001b[0m: 'numpy.float64' object is not callable"
     ]
    }
   ],
   "source": [
    "score = score(train_x, train_y, model)"
   ]
  },
  {
   "cell_type": "code",
   "execution_count": null,
   "id": "187d6500",
   "metadata": {},
   "outputs": [],
   "source": [
    "print(f\"Score after clustering is {score}\")"
   ]
  },
  {
   "cell_type": "code",
   "execution_count": null,
   "id": "b778bac4",
   "metadata": {},
   "outputs": [],
   "source": [
    "model.fit(train_x, train_y)"
   ]
  },
  {
   "cell_type": "code",
   "execution_count": 38,
   "id": "6cf3468a",
   "metadata": {},
   "outputs": [
    {
     "data": {
      "text/html": [
       "<style>#sk-container-id-2 {color: black;}#sk-container-id-2 pre{padding: 0;}#sk-container-id-2 div.sk-toggleable {background-color: white;}#sk-container-id-2 label.sk-toggleable__label {cursor: pointer;display: block;width: 100%;margin-bottom: 0;padding: 0.3em;box-sizing: border-box;text-align: center;}#sk-container-id-2 label.sk-toggleable__label-arrow:before {content: \"▸\";float: left;margin-right: 0.25em;color: #696969;}#sk-container-id-2 label.sk-toggleable__label-arrow:hover:before {color: black;}#sk-container-id-2 div.sk-estimator:hover label.sk-toggleable__label-arrow:before {color: black;}#sk-container-id-2 div.sk-toggleable__content {max-height: 0;max-width: 0;overflow: hidden;text-align: left;background-color: #f0f8ff;}#sk-container-id-2 div.sk-toggleable__content pre {margin: 0.2em;color: black;border-radius: 0.25em;background-color: #f0f8ff;}#sk-container-id-2 input.sk-toggleable__control:checked~div.sk-toggleable__content {max-height: 200px;max-width: 100%;overflow: auto;}#sk-container-id-2 input.sk-toggleable__control:checked~label.sk-toggleable__label-arrow:before {content: \"▾\";}#sk-container-id-2 div.sk-estimator input.sk-toggleable__control:checked~label.sk-toggleable__label {background-color: #d4ebff;}#sk-container-id-2 div.sk-label input.sk-toggleable__control:checked~label.sk-toggleable__label {background-color: #d4ebff;}#sk-container-id-2 input.sk-hidden--visually {border: 0;clip: rect(1px 1px 1px 1px);clip: rect(1px, 1px, 1px, 1px);height: 1px;margin: -1px;overflow: hidden;padding: 0;position: absolute;width: 1px;}#sk-container-id-2 div.sk-estimator {font-family: monospace;background-color: #f0f8ff;border: 1px dotted black;border-radius: 0.25em;box-sizing: border-box;margin-bottom: 0.5em;}#sk-container-id-2 div.sk-estimator:hover {background-color: #d4ebff;}#sk-container-id-2 div.sk-parallel-item::after {content: \"\";width: 100%;border-bottom: 1px solid gray;flex-grow: 1;}#sk-container-id-2 div.sk-label:hover label.sk-toggleable__label {background-color: #d4ebff;}#sk-container-id-2 div.sk-serial::before {content: \"\";position: absolute;border-left: 1px solid gray;box-sizing: border-box;top: 0;bottom: 0;left: 50%;z-index: 0;}#sk-container-id-2 div.sk-serial {display: flex;flex-direction: column;align-items: center;background-color: white;padding-right: 0.2em;padding-left: 0.2em;position: relative;}#sk-container-id-2 div.sk-item {position: relative;z-index: 1;}#sk-container-id-2 div.sk-parallel {display: flex;align-items: stretch;justify-content: center;background-color: white;position: relative;}#sk-container-id-2 div.sk-item::before, #sk-container-id-2 div.sk-parallel-item::before {content: \"\";position: absolute;border-left: 1px solid gray;box-sizing: border-box;top: 0;bottom: 0;left: 50%;z-index: -1;}#sk-container-id-2 div.sk-parallel-item {display: flex;flex-direction: column;z-index: 1;position: relative;background-color: white;}#sk-container-id-2 div.sk-parallel-item:first-child::after {align-self: flex-end;width: 50%;}#sk-container-id-2 div.sk-parallel-item:last-child::after {align-self: flex-start;width: 50%;}#sk-container-id-2 div.sk-parallel-item:only-child::after {width: 0;}#sk-container-id-2 div.sk-dashed-wrapped {border: 1px dashed gray;margin: 0 0.4em 0.5em 0.4em;box-sizing: border-box;padding-bottom: 0.4em;background-color: white;}#sk-container-id-2 div.sk-label label {font-family: monospace;font-weight: bold;display: inline-block;line-height: 1.2em;}#sk-container-id-2 div.sk-label-container {text-align: center;}#sk-container-id-2 div.sk-container {/* jupyter's `normalize.less` sets `[hidden] { display: none; }` but bootstrap.min.css set `[hidden] { display: none !important; }` so we also need the `!important` here to be able to override the default hidden behavior on the sphinx rendered scikit-learn.org. See: https://github.com/scikit-learn/scikit-learn/issues/21755 */display: inline-block !important;position: relative;}#sk-container-id-2 div.sk-text-repr-fallback {display: none;}</style><div id=\"sk-container-id-2\" class=\"sk-top-container\"><div class=\"sk-text-repr-fallback\"><pre>RandomForestClassifier()</pre><b>In a Jupyter environment, please rerun this cell to show the HTML representation or trust the notebook. <br />On GitHub, the HTML representation is unable to render, please try loading this page with nbviewer.org.</b></div><div class=\"sk-container\" hidden><div class=\"sk-item\"><div class=\"sk-estimator sk-toggleable\"><input class=\"sk-toggleable__control sk-hidden--visually\" id=\"sk-estimator-id-2\" type=\"checkbox\" checked><label for=\"sk-estimator-id-2\" class=\"sk-toggleable__label sk-toggleable__label-arrow\">RandomForestClassifier</label><div class=\"sk-toggleable__content\"><pre>RandomForestClassifier()</pre></div></div></div></div></div>"
      ],
      "text/plain": [
       "RandomForestClassifier()"
      ]
     },
     "execution_count": 38,
     "metadata": {},
     "output_type": "execute_result"
    }
   ],
   "source": [
    "model_1.fit(train_x, train_y)"
   ]
  },
  {
   "cell_type": "code",
   "execution_count": 39,
   "id": "2c50367b",
   "metadata": {},
   "outputs": [
    {
     "ename": "ValueError",
     "evalue": "feature_names mismatch: ['Pregnancies', 'Glucose', 'BloodPressure', 'SkinThickness', 'Insulin', 'BMI', 'DiabetesPedigreeFunction', 'Age'] ['Pregnancies', 'Glucose', 'BloodPressure', 'SkinThickness', 'Insulin', 'BMI', 'DiabetesPedigreeFunction', 'Age', 'optimize_cluster']\ntraining data did not have the following fields: optimize_cluster",
     "output_type": "error",
     "traceback": [
      "\u001b[0;31m---------------------------------------------------------------------------\u001b[0m",
      "\u001b[0;31mValueError\u001b[0m                                Traceback (most recent call last)",
      "Cell \u001b[0;32mIn[39], line 1\u001b[0m\n\u001b[0;32m----> 1\u001b[0m prediction \u001b[38;5;241m=\u001b[39m \u001b[43mmodel\u001b[49m\u001b[38;5;241;43m.\u001b[39;49m\u001b[43mpredict\u001b[49m\u001b[43m(\u001b[49m\u001b[43mtest_x\u001b[49m\u001b[43m)\u001b[49m\n",
      "File \u001b[0;32m~/.local/lib/python3.10/site-packages/xgboost/sklearn.py:1553\u001b[0m, in \u001b[0;36mXGBClassifier.predict\u001b[0;34m(self, X, output_margin, validate_features, base_margin, iteration_range)\u001b[0m\n\u001b[1;32m   1544\u001b[0m \u001b[38;5;28;01mdef\u001b[39;00m \u001b[38;5;21mpredict\u001b[39m(\n\u001b[1;32m   1545\u001b[0m     \u001b[38;5;28mself\u001b[39m,\n\u001b[1;32m   1546\u001b[0m     X: ArrayLike,\n\u001b[0;32m   (...)\u001b[0m\n\u001b[1;32m   1550\u001b[0m     iteration_range: Optional[Tuple[\u001b[38;5;28mint\u001b[39m, \u001b[38;5;28mint\u001b[39m]] \u001b[38;5;241m=\u001b[39m \u001b[38;5;28;01mNone\u001b[39;00m,\n\u001b[1;32m   1551\u001b[0m ) \u001b[38;5;241m-\u001b[39m\u001b[38;5;241m>\u001b[39m ArrayLike:\n\u001b[1;32m   1552\u001b[0m     \u001b[38;5;28;01mwith\u001b[39;00m config_context(verbosity\u001b[38;5;241m=\u001b[39m\u001b[38;5;28mself\u001b[39m\u001b[38;5;241m.\u001b[39mverbosity):\n\u001b[0;32m-> 1553\u001b[0m         class_probs \u001b[38;5;241m=\u001b[39m \u001b[38;5;28;43msuper\u001b[39;49m\u001b[43m(\u001b[49m\u001b[43m)\u001b[49m\u001b[38;5;241;43m.\u001b[39;49m\u001b[43mpredict\u001b[49m\u001b[43m(\u001b[49m\n\u001b[1;32m   1554\u001b[0m \u001b[43m            \u001b[49m\u001b[43mX\u001b[49m\u001b[38;5;241;43m=\u001b[39;49m\u001b[43mX\u001b[49m\u001b[43m,\u001b[49m\n\u001b[1;32m   1555\u001b[0m \u001b[43m            \u001b[49m\u001b[43moutput_margin\u001b[49m\u001b[38;5;241;43m=\u001b[39;49m\u001b[43moutput_margin\u001b[49m\u001b[43m,\u001b[49m\n\u001b[1;32m   1556\u001b[0m \u001b[43m            \u001b[49m\u001b[43mvalidate_features\u001b[49m\u001b[38;5;241;43m=\u001b[39;49m\u001b[43mvalidate_features\u001b[49m\u001b[43m,\u001b[49m\n\u001b[1;32m   1557\u001b[0m \u001b[43m            \u001b[49m\u001b[43mbase_margin\u001b[49m\u001b[38;5;241;43m=\u001b[39;49m\u001b[43mbase_margin\u001b[49m\u001b[43m,\u001b[49m\n\u001b[1;32m   1558\u001b[0m \u001b[43m            \u001b[49m\u001b[43miteration_range\u001b[49m\u001b[38;5;241;43m=\u001b[39;49m\u001b[43miteration_range\u001b[49m\u001b[43m,\u001b[49m\n\u001b[1;32m   1559\u001b[0m \u001b[43m        \u001b[49m\u001b[43m)\u001b[49m\n\u001b[1;32m   1560\u001b[0m         \u001b[38;5;28;01mif\u001b[39;00m output_margin:\n\u001b[1;32m   1561\u001b[0m             \u001b[38;5;66;03m# If output_margin is active, simply return the scores\u001b[39;00m\n\u001b[1;32m   1562\u001b[0m             \u001b[38;5;28;01mreturn\u001b[39;00m class_probs\n",
      "File \u001b[0;32m~/.local/lib/python3.10/site-packages/xgboost/sklearn.py:1168\u001b[0m, in \u001b[0;36mXGBModel.predict\u001b[0;34m(self, X, output_margin, validate_features, base_margin, iteration_range)\u001b[0m\n\u001b[1;32m   1166\u001b[0m \u001b[38;5;28;01mif\u001b[39;00m \u001b[38;5;28mself\u001b[39m\u001b[38;5;241m.\u001b[39m_can_use_inplace_predict():\n\u001b[1;32m   1167\u001b[0m     \u001b[38;5;28;01mtry\u001b[39;00m:\n\u001b[0;32m-> 1168\u001b[0m         predts \u001b[38;5;241m=\u001b[39m \u001b[38;5;28;43mself\u001b[39;49m\u001b[38;5;241;43m.\u001b[39;49m\u001b[43mget_booster\u001b[49m\u001b[43m(\u001b[49m\u001b[43m)\u001b[49m\u001b[38;5;241;43m.\u001b[39;49m\u001b[43minplace_predict\u001b[49m\u001b[43m(\u001b[49m\n\u001b[1;32m   1169\u001b[0m \u001b[43m            \u001b[49m\u001b[43mdata\u001b[49m\u001b[38;5;241;43m=\u001b[39;49m\u001b[43mX\u001b[49m\u001b[43m,\u001b[49m\n\u001b[1;32m   1170\u001b[0m \u001b[43m            \u001b[49m\u001b[43miteration_range\u001b[49m\u001b[38;5;241;43m=\u001b[39;49m\u001b[43miteration_range\u001b[49m\u001b[43m,\u001b[49m\n\u001b[1;32m   1171\u001b[0m \u001b[43m            \u001b[49m\u001b[43mpredict_type\u001b[49m\u001b[38;5;241;43m=\u001b[39;49m\u001b[38;5;124;43m\"\u001b[39;49m\u001b[38;5;124;43mmargin\u001b[39;49m\u001b[38;5;124;43m\"\u001b[39;49m\u001b[43m \u001b[49m\u001b[38;5;28;43;01mif\u001b[39;49;00m\u001b[43m \u001b[49m\u001b[43moutput_margin\u001b[49m\u001b[43m \u001b[49m\u001b[38;5;28;43;01melse\u001b[39;49;00m\u001b[43m \u001b[49m\u001b[38;5;124;43m\"\u001b[39;49m\u001b[38;5;124;43mvalue\u001b[39;49m\u001b[38;5;124;43m\"\u001b[39;49m\u001b[43m,\u001b[49m\n\u001b[1;32m   1172\u001b[0m \u001b[43m            \u001b[49m\u001b[43mmissing\u001b[49m\u001b[38;5;241;43m=\u001b[39;49m\u001b[38;5;28;43mself\u001b[39;49m\u001b[38;5;241;43m.\u001b[39;49m\u001b[43mmissing\u001b[49m\u001b[43m,\u001b[49m\n\u001b[1;32m   1173\u001b[0m \u001b[43m            \u001b[49m\u001b[43mbase_margin\u001b[49m\u001b[38;5;241;43m=\u001b[39;49m\u001b[43mbase_margin\u001b[49m\u001b[43m,\u001b[49m\n\u001b[1;32m   1174\u001b[0m \u001b[43m            \u001b[49m\u001b[43mvalidate_features\u001b[49m\u001b[38;5;241;43m=\u001b[39;49m\u001b[43mvalidate_features\u001b[49m\u001b[43m,\u001b[49m\n\u001b[1;32m   1175\u001b[0m \u001b[43m        \u001b[49m\u001b[43m)\u001b[49m\n\u001b[1;32m   1176\u001b[0m         \u001b[38;5;28;01mif\u001b[39;00m _is_cupy_array(predts):\n\u001b[1;32m   1177\u001b[0m             \u001b[38;5;28;01mimport\u001b[39;00m \u001b[38;5;21;01mcupy\u001b[39;00m  \u001b[38;5;66;03m# pylint: disable=import-error\u001b[39;00m\n",
      "File \u001b[0;32m~/.local/lib/python3.10/site-packages/xgboost/core.py:2418\u001b[0m, in \u001b[0;36mBooster.inplace_predict\u001b[0;34m(self, data, iteration_range, predict_type, missing, validate_features, base_margin, strict_shape)\u001b[0m\n\u001b[1;32m   2416\u001b[0m     data, fns, _ \u001b[38;5;241m=\u001b[39m _transform_pandas_df(data, enable_categorical)\n\u001b[1;32m   2417\u001b[0m     \u001b[38;5;28;01mif\u001b[39;00m validate_features:\n\u001b[0;32m-> 2418\u001b[0m         \u001b[38;5;28;43mself\u001b[39;49m\u001b[38;5;241;43m.\u001b[39;49m\u001b[43m_validate_features\u001b[49m\u001b[43m(\u001b[49m\u001b[43mfns\u001b[49m\u001b[43m)\u001b[49m\n\u001b[1;32m   2419\u001b[0m \u001b[38;5;28;01mif\u001b[39;00m _is_list(data) \u001b[38;5;129;01mor\u001b[39;00m _is_tuple(data):\n\u001b[1;32m   2420\u001b[0m     data \u001b[38;5;241m=\u001b[39m np\u001b[38;5;241m.\u001b[39marray(data)\n",
      "File \u001b[0;32m~/.local/lib/python3.10/site-packages/xgboost/core.py:2970\u001b[0m, in \u001b[0;36mBooster._validate_features\u001b[0;34m(self, feature_names)\u001b[0m\n\u001b[1;32m   2964\u001b[0m \u001b[38;5;28;01mif\u001b[39;00m my_missing:\n\u001b[1;32m   2965\u001b[0m     msg \u001b[38;5;241m+\u001b[39m\u001b[38;5;241m=\u001b[39m (\n\u001b[1;32m   2966\u001b[0m         \u001b[38;5;124m\"\u001b[39m\u001b[38;5;130;01m\\n\u001b[39;00m\u001b[38;5;124mtraining data did not have the following fields: \u001b[39m\u001b[38;5;124m\"\u001b[39m\n\u001b[1;32m   2967\u001b[0m         \u001b[38;5;241m+\u001b[39m \u001b[38;5;124m\"\u001b[39m\u001b[38;5;124m, \u001b[39m\u001b[38;5;124m\"\u001b[39m\u001b[38;5;241m.\u001b[39mjoin(\u001b[38;5;28mstr\u001b[39m(s) \u001b[38;5;28;01mfor\u001b[39;00m s \u001b[38;5;129;01min\u001b[39;00m my_missing)\n\u001b[1;32m   2968\u001b[0m     )\n\u001b[0;32m-> 2970\u001b[0m \u001b[38;5;28;01mraise\u001b[39;00m \u001b[38;5;167;01mValueError\u001b[39;00m(msg\u001b[38;5;241m.\u001b[39mformat(\u001b[38;5;28mself\u001b[39m\u001b[38;5;241m.\u001b[39mfeature_names, feature_names))\n",
      "\u001b[0;31mValueError\u001b[0m: feature_names mismatch: ['Pregnancies', 'Glucose', 'BloodPressure', 'SkinThickness', 'Insulin', 'BMI', 'DiabetesPedigreeFunction', 'Age'] ['Pregnancies', 'Glucose', 'BloodPressure', 'SkinThickness', 'Insulin', 'BMI', 'DiabetesPedigreeFunction', 'Age', 'optimize_cluster']\ntraining data did not have the following fields: optimize_cluster"
     ]
    }
   ],
   "source": [
    "prediction = model.predict(test_x)"
   ]
  },
  {
   "cell_type": "code",
   "execution_count": 40,
   "id": "0be20a59",
   "metadata": {},
   "outputs": [],
   "source": [
    "prediction_1 = model_1.predict(test_x)"
   ]
  },
  {
   "cell_type": "code",
   "execution_count": 41,
   "id": "8779522c",
   "metadata": {},
   "outputs": [],
   "source": [
    "confusion_matrix = metrics.confusion_matrix(test_y, prediction)\n",
    "confusion_matrix_1 = metrics.confusion_matrix(test_y, prediction_1)"
   ]
  },
  {
   "cell_type": "code",
   "execution_count": 42,
   "id": "6d8c932f",
   "metadata": {},
   "outputs": [
    {
     "data": {
      "text/plain": [
       "array([[95, 35],\n",
       "       [42, 20]])"
      ]
     },
     "execution_count": 42,
     "metadata": {},
     "output_type": "execute_result"
    }
   ],
   "source": [
    "confusion_matrix"
   ]
  },
  {
   "cell_type": "code",
   "execution_count": 43,
   "id": "3e36c2f7",
   "metadata": {},
   "outputs": [
    {
     "data": {
      "text/plain": [
       "array([[110,  20],\n",
       "       [ 24,  38]])"
      ]
     },
     "execution_count": 43,
     "metadata": {},
     "output_type": "execute_result"
    }
   ],
   "source": [
    "confusion_matrix_1"
   ]
  },
  {
   "cell_type": "code",
   "execution_count": 44,
   "id": "31de6901",
   "metadata": {},
   "outputs": [
    {
     "ename": "TypeError",
     "evalue": "'numpy.float64' object is not callable",
     "output_type": "error",
     "traceback": [
      "\u001b[0;31m---------------------------------------------------------------------------\u001b[0m",
      "\u001b[0;31mTypeError\u001b[0m                                 Traceback (most recent call last)",
      "Cell \u001b[0;32mIn[44], line 1\u001b[0m\n\u001b[0;32m----> 1\u001b[0m score_1 \u001b[38;5;241m=\u001b[39m \u001b[43mscore\u001b[49m\u001b[43m(\u001b[49m\u001b[43mtrain_x\u001b[49m\u001b[43m,\u001b[49m\u001b[43m \u001b[49m\u001b[43mtrain_y\u001b[49m\u001b[43m,\u001b[49m\u001b[43m \u001b[49m\u001b[43mmodel_1\u001b[49m\u001b[43m)\u001b[49m\n",
      "\u001b[0;31mTypeError\u001b[0m: 'numpy.float64' object is not callable"
     ]
    }
   ],
   "source": [
    "score_1 = score(train_x, train_y, model_1)"
   ]
  },
  {
   "cell_type": "code",
   "execution_count": 45,
   "id": "a5240d22",
   "metadata": {},
   "outputs": [
    {
     "ename": "NameError",
     "evalue": "name 'score_1' is not defined",
     "output_type": "error",
     "traceback": [
      "\u001b[0;31m---------------------------------------------------------------------------\u001b[0m",
      "\u001b[0;31mNameError\u001b[0m                                 Traceback (most recent call last)",
      "Cell \u001b[0;32mIn[45], line 1\u001b[0m\n\u001b[0;32m----> 1\u001b[0m \u001b[43mscore_1\u001b[49m\n",
      "\u001b[0;31mNameError\u001b[0m: name 'score_1' is not defined"
     ]
    }
   ],
   "source": [
    "score_1"
   ]
  },
  {
   "cell_type": "code",
   "execution_count": 46,
   "id": "111b45ad",
   "metadata": {},
   "outputs": [
    {
     "data": {
      "image/png": "[encoded data removed]",
      "text/plain": [
       "<Figure size 640x480 with 2 Axes>"
      ]
     },
     "metadata": {},
     "output_type": "display_data"
    }
   ],
   "source": [
    "cm_display = metrics.ConfusionMatrixDisplay(confusion_matrix = confusion_matrix, display_labels=[False, True])\n",
    "cm_display.plot()\n",
    "plt.show()"
   ]
  },
  {
   "cell_type": "code",
   "execution_count": 47,
   "id": "d9d25c04",
   "metadata": {},
   "outputs": [
    {
     "data": {
      "image/png": "[encoded data removed]",
      "text/plain": [
       "<Figure size 640x480 with 2 Axes>"
      ]
     },
     "metadata": {},
     "output_type": "display_data"
    }
   ],
   "source": [
    "cm_display = metrics.ConfusionMatrixDisplay(confusion_matrix = confusion_matrix_1, display_labels=[False, True])\n",
    "cm_display.plot()\n",
    "plt.show()"
   ]
  },
  {
   "cell_type": "code",
   "execution_count": 48,
   "id": "f8767f85",
   "metadata": {},
   "outputs": [],
   "source": [
    "def objective(trial):\n",
    "    params = {\n",
    "        'objective': 'multi:softmax',\n",
    "        'num_class': 3,\n",
    "        'booster': trial.suggest_categorical('booster', ['gbtree', 'gblinear', 'dart']),\n",
    "        'max_depth': trial.suggest_int('max_depth', 3, 9),\n",
    "        'learning_rate': trial.suggest_loguniform('learning_rate', 0.01, 0.1),\n",
    "        'subsample': trial.suggest_float('subsample', 0.5, 1),\n",
    "        'colsample_bytree': trial.suggest_float('colsample_bytree', 0.5, 1),\n",
    "    }\n",
    "\n",
    "    model = XGBClassifier(**params)\n",
    "    \n",
    "    kFold = KFold(n_splits = 5, shuffle = True, random_state = 42)\n",
    "    score = cross_val_score(model, X, y, cv = kFold, scoring = \"accuracy\")\n",
    "    score = score.mean()\n",
    "    return score\n",
    "# RandomForestClassifier()"
   ]
  },
  {
   "cell_type": "code",
   "execution_count": 49,
   "id": "9b833b9d",
   "metadata": {},
   "outputs": [
    {
     "name": "stderr",
     "output_type": "stream",
     "text": [
      "[I 2024-07-25 00:46:13,535] A new study created in memory with name: no-name-5cde8eb7-9cb7-4ced-9aec-55852802756c\n",
      "/tmp/ipykernel_9081/713915592.py:7: FutureWarning: suggest_loguniform has been deprecated in v3.0.0. This feature will be removed in v6.0.0. See https://github.com/optuna/optuna/releases/tag/v3.0.0. Use suggest_float(..., log=True) instead.\n",
      "  'learning_rate': trial.suggest_loguniform('learning_rate', 0.01, 0.1),\n",
      "[I 2024-07-25 00:46:21,029] Trial 0 finished with value: 0.7656480774127832 and parameters: {'booster': 'dart', 'max_depth': 8, 'learning_rate': 0.09090656001836138, 'subsample': 0.639669639759512, 'colsample_bytree': 0.6347826743385938}. Best is trial 0 with value: 0.7656480774127832.\n",
      "/tmp/ipykernel_9081/713915592.py:7: FutureWarning: suggest_loguniform has been deprecated in v3.0.0. This feature will be removed in v6.0.0. See https://github.com/optuna/optuna/releases/tag/v3.0.0. Use suggest_float(..., log=True) instead.\n",
      "  'learning_rate': trial.suggest_loguniform('learning_rate', 0.01, 0.1),\n",
      "/home/tawhid885/.local/lib/python3.10/site-packages/xgboost/core.py:160: UserWarning: [00:46:21] WARNING: /workspace/src/learner.cc:742: \n",
      "Parameters: { \"colsample_bytree\", \"max_depth\", \"subsample\" } are not used.\n",
      "\n",
      "  warnings.warn(smsg, UserWarning)\n",
      "/home/tawhid885/.local/lib/python3.10/site-packages/xgboost/core.py:160: UserWarning: [00:46:21] WARNING: /workspace/src/learner.cc:742: \n",
      "Parameters: { \"colsample_bytree\", \"max_depth\", \"subsample\" } are not used.\n",
      "\n",
      "  warnings.warn(smsg, UserWarning)\n",
      "/home/tawhid885/.local/lib/python3.10/site-packages/xgboost/core.py:160: UserWarning: [00:46:21] WARNING: /workspace/src/learner.cc:742: \n",
      "Parameters: { \"colsample_bytree\", \"max_depth\", \"subsample\" } are not used.\n",
      "\n",
      "  warnings.warn(smsg, UserWarning)\n",
      "/home/tawhid885/.local/lib/python3.10/site-packages/xgboost/core.py:160: UserWarning: [00:46:21] WARNING: /workspace/src/learner.cc:742: \n",
      "Parameters: { \"colsample_bytree\", \"max_depth\", \"subsample\" } are not used.\n",
      "\n",
      "  warnings.warn(smsg, UserWarning)\n",
      "/home/tawhid885/.local/lib/python3.10/site-packages/xgboost/core.py:160: UserWarning: [00:46:21] WARNING: /workspace/src/learner.cc:742: \n",
      "Parameters: { \"colsample_bytree\", \"max_depth\", \"subsample\" } are not used.\n",
      "\n",
      "  warnings.warn(smsg, UserWarning)\n",
      "[I 2024-07-25 00:46:21,196] Trial 1 finished with value: 0.7056871233341822 and parameters: {'booster': 'gblinear', 'max_depth': 7, 'learning_rate': 0.09611673598912927, 'subsample': 0.8487367708761396, 'colsample_bytree': 0.6501066317160138}. Best is trial 0 with value: 0.7656480774127832.\n",
      "/tmp/ipykernel_9081/713915592.py:7: FutureWarning: suggest_loguniform has been deprecated in v3.0.0. This feature will be removed in v6.0.0. See https://github.com/optuna/optuna/releases/tag/v3.0.0. Use suggest_float(..., log=True) instead.\n",
      "  'learning_rate': trial.suggest_loguniform('learning_rate', 0.01, 0.1),\n",
      "/home/tawhid885/.local/lib/python3.10/site-packages/xgboost/core.py:160: UserWarning: [00:46:21] WARNING: /workspace/src/learner.cc:742: \n",
      "Parameters: { \"colsample_bytree\", \"max_depth\", \"subsample\" } are not used.\n",
      "\n",
      "  warnings.warn(smsg, UserWarning)\n",
      "/home/tawhid885/.local/lib/python3.10/site-packages/xgboost/core.py:160: UserWarning: [00:46:21] WARNING: /workspace/src/learner.cc:742: \n",
      "Parameters: { \"colsample_bytree\", \"max_depth\", \"subsample\" } are not used.\n",
      "\n",
      "  warnings.warn(smsg, UserWarning)\n",
      "/home/tawhid885/.local/lib/python3.10/site-packages/xgboost/core.py:160: UserWarning: [00:46:21] WARNING: /workspace/src/learner.cc:742: \n",
      "Parameters: { \"colsample_bytree\", \"max_depth\", \"subsample\" } are not used.\n",
      "\n",
      "  warnings.warn(smsg, UserWarning)\n",
      "/home/tawhid885/.local/lib/python3.10/site-packages/xgboost/core.py:160: UserWarning: [00:46:21] WARNING: /workspace/src/learner.cc:742: \n",
      "Parameters: { \"colsample_bytree\", \"max_depth\", \"subsample\" } are not used.\n",
      "\n",
      "  warnings.warn(smsg, UserWarning)\n",
      "/home/tawhid885/.local/lib/python3.10/site-packages/xgboost/core.py:160: UserWarning: [00:46:21] WARNING: /workspace/src/learner.cc:742: \n",
      "Parameters: { \"colsample_bytree\", \"max_depth\", \"subsample\" } are not used.\n",
      "\n",
      "  warnings.warn(smsg, UserWarning)\n",
      "[I 2024-07-25 00:46:21,379] Trial 2 finished with value: 0.6692725575078516 and parameters: {'booster': 'gblinear', 'max_depth': 4, 'learning_rate': 0.026359894550848393, 'subsample': 0.6465347325225373, 'colsample_bytree': 0.9779098864335096}. Best is trial 0 with value: 0.7656480774127832.\n",
      "/tmp/ipykernel_9081/713915592.py:7: FutureWarning: suggest_loguniform has been deprecated in v3.0.0. This feature will be removed in v6.0.0. See https://github.com/optuna/optuna/releases/tag/v3.0.0. Use suggest_float(..., log=True) instead.\n",
      "  'learning_rate': trial.suggest_loguniform('learning_rate', 0.01, 0.1),\n",
      "[I 2024-07-25 00:46:30,961] Trial 3 finished with value: 0.7708513708513708 and parameters: {'booster': 'dart', 'max_depth': 5, 'learning_rate': 0.02849977082318678, 'subsample': 0.960708600206132, 'colsample_bytree': 0.8033482901248856}. Best is trial 3 with value: 0.7708513708513708.\n",
      "/tmp/ipykernel_9081/713915592.py:7: FutureWarning: suggest_loguniform has been deprecated in v3.0.0. This feature will be removed in v6.0.0. See https://github.com/optuna/optuna/releases/tag/v3.0.0. Use suggest_float(..., log=True) instead.\n",
      "  'learning_rate': trial.suggest_loguniform('learning_rate', 0.01, 0.1),\n",
      "/home/tawhid885/.local/lib/python3.10/site-packages/xgboost/core.py:160: UserWarning: [00:46:30] WARNING: /workspace/src/learner.cc:742: \n",
      "Parameters: { \"colsample_bytree\", \"max_depth\", \"subsample\" } are not used.\n",
      "\n",
      "  warnings.warn(smsg, UserWarning)\n",
      "/home/tawhid885/.local/lib/python3.10/site-packages/xgboost/core.py:160: UserWarning: [00:46:31] WARNING: /workspace/src/learner.cc:742: \n",
      "Parameters: { \"colsample_bytree\", \"max_depth\", \"subsample\" } are not used.\n",
      "\n",
      "  warnings.warn(smsg, UserWarning)\n",
      "/home/tawhid885/.local/lib/python3.10/site-packages/xgboost/core.py:160: UserWarning: [00:46:31] WARNING: /workspace/src/learner.cc:742: \n",
      "Parameters: { \"colsample_bytree\", \"max_depth\", \"subsample\" } are not used.\n",
      "\n",
      "  warnings.warn(smsg, UserWarning)\n",
      "/home/tawhid885/.local/lib/python3.10/site-packages/xgboost/core.py:160: UserWarning: [00:46:31] WARNING: /workspace/src/learner.cc:742: \n",
      "Parameters: { \"colsample_bytree\", \"max_depth\", \"subsample\" } are not used.\n",
      "\n",
      "  warnings.warn(smsg, UserWarning)\n",
      "/home/tawhid885/.local/lib/python3.10/site-packages/xgboost/core.py:160: UserWarning: [00:46:31] WARNING: /workspace/src/learner.cc:742: \n",
      "Parameters: { \"colsample_bytree\", \"max_depth\", \"subsample\" } are not used.\n",
      "\n",
      "  warnings.warn(smsg, UserWarning)\n",
      "[I 2024-07-25 00:46:31,229] Trial 4 finished with value: 0.6757830404889228 and parameters: {'booster': 'gblinear', 'max_depth': 3, 'learning_rate': 0.045779374496199815, 'subsample': 0.9709918176133578, 'colsample_bytree': 0.6445202533593892}. Best is trial 3 with value: 0.7708513708513708.\n",
      "/tmp/ipykernel_9081/713915592.py:7: FutureWarning: suggest_loguniform has been deprecated in v3.0.0. This feature will be removed in v6.0.0. See https://github.com/optuna/optuna/releases/tag/v3.0.0. Use suggest_float(..., log=True) instead.\n",
      "  'learning_rate': trial.suggest_loguniform('learning_rate', 0.01, 0.1),\n",
      "[I 2024-07-25 00:46:32,899] Trial 5 finished with value: 0.7656141244376539 and parameters: {'booster': 'gbtree', 'max_depth': 8, 'learning_rate': 0.021484118910309314, 'subsample': 0.9428678119068917, 'colsample_bytree': 0.8603261984194186}. Best is trial 3 with value: 0.7708513708513708.\n",
      "/tmp/ipykernel_9081/713915592.py:7: FutureWarning: suggest_loguniform has been deprecated in v3.0.0. This feature will be removed in v6.0.0. See https://github.com/optuna/optuna/releases/tag/v3.0.0. Use suggest_float(..., log=True) instead.\n",
      "  'learning_rate': trial.suggest_loguniform('learning_rate', 0.01, 0.1),\n",
      "[I 2024-07-25 00:46:34,292] Trial 6 finished with value: 0.7577879636703166 and parameters: {'booster': 'gbtree', 'max_depth': 9, 'learning_rate': 0.09897951258125866, 'subsample': 0.5884845199959505, 'colsample_bytree': 0.9424779367896439}. Best is trial 3 with value: 0.7708513708513708.\n",
      "/tmp/ipykernel_9081/713915592.py:7: FutureWarning: suggest_loguniform has been deprecated in v3.0.0. This feature will be removed in v6.0.0. See https://github.com/optuna/optuna/releases/tag/v3.0.0. Use suggest_float(..., log=True) instead.\n",
      "  'learning_rate': trial.suggest_loguniform('learning_rate', 0.01, 0.1),\n",
      "/home/tawhid885/.local/lib/python3.10/site-packages/xgboost/core.py:160: UserWarning: [00:46:34] WARNING: /workspace/src/learner.cc:742: \n",
      "Parameters: { \"colsample_bytree\", \"max_depth\", \"subsample\" } are not used.\n",
      "\n",
      "  warnings.warn(smsg, UserWarning)\n",
      "/home/tawhid885/.local/lib/python3.10/site-packages/xgboost/core.py:160: UserWarning: [00:46:34] WARNING: /workspace/src/learner.cc:742: \n",
      "Parameters: { \"colsample_bytree\", \"max_depth\", \"subsample\" } are not used.\n",
      "\n",
      "  warnings.warn(smsg, UserWarning)\n",
      "/home/tawhid885/.local/lib/python3.10/site-packages/xgboost/core.py:160: UserWarning: [00:46:34] WARNING: /workspace/src/learner.cc:742: \n",
      "Parameters: { \"colsample_bytree\", \"max_depth\", \"subsample\" } are not used.\n",
      "\n",
      "  warnings.warn(smsg, UserWarning)\n",
      "/home/tawhid885/.local/lib/python3.10/site-packages/xgboost/core.py:160: UserWarning: [00:46:34] WARNING: /workspace/src/learner.cc:742: \n",
      "Parameters: { \"colsample_bytree\", \"max_depth\", \"subsample\" } are not used.\n",
      "\n",
      "  warnings.warn(smsg, UserWarning)\n",
      "/home/tawhid885/.local/lib/python3.10/site-packages/xgboost/core.py:160: UserWarning: [00:46:34] WARNING: /workspace/src/learner.cc:742: \n",
      "Parameters: { \"colsample_bytree\", \"max_depth\", \"subsample\" } are not used.\n",
      "\n",
      "  warnings.warn(smsg, UserWarning)\n",
      "[I 2024-07-25 00:46:34,480] Trial 7 finished with value: 0.6510567863509039 and parameters: {'booster': 'gblinear', 'max_depth': 6, 'learning_rate': 0.010218007266116307, 'subsample': 0.6078232122337561, 'colsample_bytree': 0.5010695507514935}. Best is trial 3 with value: 0.7708513708513708.\n"
     ]
    },
    {
     "name": "stderr",
     "output_type": "stream",
     "text": [
      "/tmp/ipykernel_9081/713915592.py:7: FutureWarning: suggest_loguniform has been deprecated in v3.0.0. This feature will be removed in v6.0.0. See https://github.com/optuna/optuna/releases/tag/v3.0.0. Use suggest_float(..., log=True) instead.\n",
      "  'learning_rate': trial.suggest_loguniform('learning_rate', 0.01, 0.1),\n",
      "/home/tawhid885/.local/lib/python3.10/site-packages/xgboost/core.py:160: UserWarning: [00:46:34] WARNING: /workspace/src/learner.cc:742: \n",
      "Parameters: { \"colsample_bytree\", \"max_depth\", \"subsample\" } are not used.\n",
      "\n",
      "  warnings.warn(smsg, UserWarning)\n",
      "/home/tawhid885/.local/lib/python3.10/site-packages/xgboost/core.py:160: UserWarning: [00:46:34] WARNING: /workspace/src/learner.cc:742: \n",
      "Parameters: { \"colsample_bytree\", \"max_depth\", \"subsample\" } are not used.\n",
      "\n",
      "  warnings.warn(smsg, UserWarning)\n",
      "/home/tawhid885/.local/lib/python3.10/site-packages/xgboost/core.py:160: UserWarning: [00:46:34] WARNING: /workspace/src/learner.cc:742: \n",
      "Parameters: { \"colsample_bytree\", \"max_depth\", \"subsample\" } are not used.\n",
      "\n",
      "  warnings.warn(smsg, UserWarning)\n",
      "/home/tawhid885/.local/lib/python3.10/site-packages/xgboost/core.py:160: UserWarning: [00:46:34] WARNING: /workspace/src/learner.cc:742: \n",
      "Parameters: { \"colsample_bytree\", \"max_depth\", \"subsample\" } are not used.\n",
      "\n",
      "  warnings.warn(smsg, UserWarning)\n",
      "/home/tawhid885/.local/lib/python3.10/site-packages/xgboost/core.py:160: UserWarning: [00:46:34] WARNING: /workspace/src/learner.cc:742: \n",
      "Parameters: { \"colsample_bytree\", \"max_depth\", \"subsample\" } are not used.\n",
      "\n",
      "  warnings.warn(smsg, UserWarning)\n",
      "[I 2024-07-25 00:46:34,687] Trial 8 finished with value: 0.6614718614718615 and parameters: {'booster': 'gblinear', 'max_depth': 7, 'learning_rate': 0.015228363554825841, 'subsample': 0.7107384621475475, 'colsample_bytree': 0.9949365553159839}. Best is trial 3 with value: 0.7708513708513708.\n",
      "/tmp/ipykernel_9081/713915592.py:7: FutureWarning: suggest_loguniform has been deprecated in v3.0.0. This feature will be removed in v6.0.0. See https://github.com/optuna/optuna/releases/tag/v3.0.0. Use suggest_float(..., log=True) instead.\n",
      "  'learning_rate': trial.suggest_loguniform('learning_rate', 0.01, 0.1),\n",
      "[I 2024-07-25 00:46:35,611] Trial 9 finished with value: 0.7708343943638061 and parameters: {'booster': 'gbtree', 'max_depth': 7, 'learning_rate': 0.019535679848077213, 'subsample': 0.9252178437229621, 'colsample_bytree': 0.8314138044418522}. Best is trial 3 with value: 0.7708513708513708.\n",
      "/tmp/ipykernel_9081/713915592.py:7: FutureWarning: suggest_loguniform has been deprecated in v3.0.0. This feature will be removed in v6.0.0. See https://github.com/optuna/optuna/releases/tag/v3.0.0. Use suggest_float(..., log=True) instead.\n",
      "  'learning_rate': trial.suggest_loguniform('learning_rate', 0.01, 0.1),\n",
      "[I 2024-07-25 00:46:42,960] Trial 10 finished with value: 0.7708174178762415 and parameters: {'booster': 'dart', 'max_depth': 5, 'learning_rate': 0.04989727403143903, 'subsample': 0.8193074630189846, 'colsample_bytree': 0.7847793448018586}. Best is trial 3 with value: 0.7708513708513708.\n",
      "/tmp/ipykernel_9081/713915592.py:7: FutureWarning: suggest_loguniform has been deprecated in v3.0.0. This feature will be removed in v6.0.0. See https://github.com/optuna/optuna/releases/tag/v3.0.0. Use suggest_float(..., log=True) instead.\n",
      "  'learning_rate': trial.suggest_loguniform('learning_rate', 0.01, 0.1),\n",
      "[I 2024-07-25 00:46:43,640] Trial 11 finished with value: 0.7695102283337578 and parameters: {'booster': 'gbtree', 'max_depth': 5, 'learning_rate': 0.03775487133868791, 'subsample': 0.8848895062575792, 'colsample_bytree': 0.8044247995761645}. Best is trial 3 with value: 0.7708513708513708.\n",
      "/tmp/ipykernel_9081/713915592.py:7: FutureWarning: suggest_loguniform has been deprecated in v3.0.0. This feature will be removed in v6.0.0. See https://github.com/optuna/optuna/releases/tag/v3.0.0. Use suggest_float(..., log=True) instead.\n",
      "  'learning_rate': trial.suggest_loguniform('learning_rate', 0.01, 0.1),\n",
      "[I 2024-07-25 00:46:52,102] Trial 12 finished with value: 0.7721415839062897 and parameters: {'booster': 'dart', 'max_depth': 6, 'learning_rate': 0.01830910723415687, 'subsample': 0.9936033424056486, 'colsample_bytree': 0.8781256899340196}. Best is trial 12 with value: 0.7721415839062897.\n",
      "/tmp/ipykernel_9081/713915592.py:7: FutureWarning: suggest_loguniform has been deprecated in v3.0.0. This feature will be removed in v6.0.0. See https://github.com/optuna/optuna/releases/tag/v3.0.0. Use suggest_float(..., log=True) instead.\n",
      "  'learning_rate': trial.suggest_loguniform('learning_rate', 0.01, 0.1),\n",
      "[I 2024-07-25 00:46:59,352] Trial 13 finished with value: 0.7616925558102029 and parameters: {'booster': 'dart', 'max_depth': 5, 'learning_rate': 0.013731392101793591, 'subsample': 0.9881098992894564, 'colsample_bytree': 0.8843807380063939}. Best is trial 12 with value: 0.7721415839062897.\n",
      "/tmp/ipykernel_9081/713915592.py:7: FutureWarning: suggest_loguniform has been deprecated in v3.0.0. This feature will be removed in v6.0.0. See https://github.com/optuna/optuna/releases/tag/v3.0.0. Use suggest_float(..., log=True) instead.\n",
      "  'learning_rate': trial.suggest_loguniform('learning_rate', 0.01, 0.1),\n",
      "[I 2024-07-25 00:47:06,137] Trial 14 finished with value: 0.7721076309311603 and parameters: {'booster': 'dart', 'max_depth': 3, 'learning_rate': 0.030643930766181538, 'subsample': 0.7816644868134704, 'colsample_bytree': 0.7188701172239669}. Best is trial 12 with value: 0.7721415839062897.\n",
      "/tmp/ipykernel_9081/713915592.py:7: FutureWarning: suggest_loguniform has been deprecated in v3.0.0. This feature will be removed in v6.0.0. See https://github.com/optuna/optuna/releases/tag/v3.0.0. Use suggest_float(..., log=True) instead.\n",
      "  'learning_rate': trial.suggest_loguniform('learning_rate', 0.01, 0.1),\n",
      "[I 2024-07-25 00:47:11,742] Trial 15 finished with value: 0.7669043374925728 and parameters: {'booster': 'dart', 'max_depth': 3, 'learning_rate': 0.058845448491124906, 'subsample': 0.7850036117339513, 'colsample_bytree': 0.7161239811278982}. Best is trial 12 with value: 0.7721415839062897.\n",
      "/tmp/ipykernel_9081/713915592.py:7: FutureWarning: suggest_loguniform has been deprecated in v3.0.0. This feature will be removed in v6.0.0. See https://github.com/optuna/optuna/releases/tag/v3.0.0. Use suggest_float(..., log=True) instead.\n",
      "  'learning_rate': trial.suggest_loguniform('learning_rate', 0.01, 0.1),\n",
      "[I 2024-07-25 00:47:17,590] Trial 16 finished with value: 0.7733978439860792 and parameters: {'booster': 'dart', 'max_depth': 4, 'learning_rate': 0.018390892854098513, 'subsample': 0.703137821973681, 'colsample_bytree': 0.7306546756975713}. Best is trial 16 with value: 0.7733978439860792.\n",
      "/tmp/ipykernel_9081/713915592.py:7: FutureWarning: suggest_loguniform has been deprecated in v3.0.0. This feature will be removed in v6.0.0. See https://github.com/optuna/optuna/releases/tag/v3.0.0. Use suggest_float(..., log=True) instead.\n",
      "  'learning_rate': trial.suggest_loguniform('learning_rate', 0.01, 0.1),\n",
      "[I 2024-07-25 00:47:23,613] Trial 17 finished with value: 0.768177574059927 and parameters: {'booster': 'dart', 'max_depth': 4, 'learning_rate': 0.016105415844763517, 'subsample': 0.5121595249139138, 'colsample_bytree': 0.9026628160313928}. Best is trial 16 with value: 0.7733978439860792.\n",
      "/tmp/ipykernel_9081/713915592.py:7: FutureWarning: suggest_loguniform has been deprecated in v3.0.0. This feature will be removed in v6.0.0. See https://github.com/optuna/optuna/releases/tag/v3.0.0. Use suggest_float(..., log=True) instead.\n",
      "  'learning_rate': trial.suggest_loguniform('learning_rate', 0.01, 0.1),\n",
      "[I 2024-07-25 00:47:30,225] Trial 18 finished with value: 0.7630082335964689 and parameters: {'booster': 'dart', 'max_depth': 6, 'learning_rate': 0.01171613053150794, 'subsample': 0.7337471993941302, 'colsample_bytree': 0.571670098303816}. Best is trial 16 with value: 0.7733978439860792.\n",
      "/tmp/ipykernel_9081/713915592.py:7: FutureWarning: suggest_loguniform has been deprecated in v3.0.0. This feature will be removed in v6.0.0. See https://github.com/optuna/optuna/releases/tag/v3.0.0. Use suggest_float(..., log=True) instead.\n",
      "  'learning_rate': trial.suggest_loguniform('learning_rate', 0.01, 0.1),\n"
     ]
    },
    {
     "name": "stderr",
     "output_type": "stream",
     "text": [
      "[I 2024-07-25 00:47:36,758] Trial 19 finished with value: 0.769493251846193 and parameters: {'booster': 'dart', 'max_depth': 4, 'learning_rate': 0.022637387176570593, 'subsample': 0.6934707392675898, 'colsample_bytree': 0.7492836844352084}. Best is trial 16 with value: 0.7733978439860792.\n",
      "/tmp/ipykernel_9081/713915592.py:7: FutureWarning: suggest_loguniform has been deprecated in v3.0.0. This feature will be removed in v6.0.0. See https://github.com/optuna/optuna/releases/tag/v3.0.0. Use suggest_float(..., log=True) instead.\n",
      "  'learning_rate': trial.suggest_loguniform('learning_rate', 0.01, 0.1),\n",
      "[I 2024-07-25 00:47:43,340] Trial 20 finished with value: 0.7668958492487905 and parameters: {'booster': 'dart', 'max_depth': 6, 'learning_rate': 0.015598977525902091, 'subsample': 0.559476455435823, 'colsample_bytree': 0.9197699688433241}. Best is trial 16 with value: 0.7733978439860792.\n",
      "/tmp/ipykernel_9081/713915592.py:7: FutureWarning: suggest_loguniform has been deprecated in v3.0.0. This feature will be removed in v6.0.0. See https://github.com/optuna/optuna/releases/tag/v3.0.0. Use suggest_float(..., log=True) instead.\n",
      "  'learning_rate': trial.suggest_loguniform('learning_rate', 0.01, 0.1),\n",
      "[I 2024-07-25 00:47:49,573] Trial 21 finished with value: 0.772099142687378 and parameters: {'booster': 'dart', 'max_depth': 3, 'learning_rate': 0.032331523204721234, 'subsample': 0.7833813648310337, 'colsample_bytree': 0.7047907396517434}. Best is trial 16 with value: 0.7733978439860792.\n",
      "/tmp/ipykernel_9081/713915592.py:7: FutureWarning: suggest_loguniform has been deprecated in v3.0.0. This feature will be removed in v6.0.0. See https://github.com/optuna/optuna/releases/tag/v3.0.0. Use suggest_float(..., log=True) instead.\n",
      "  'learning_rate': trial.suggest_loguniform('learning_rate', 0.01, 0.1),\n",
      "[I 2024-07-25 00:47:56,393] Trial 22 finished with value: 0.7747050335285629 and parameters: {'booster': 'dart', 'max_depth': 4, 'learning_rate': 0.018985635319222975, 'subsample': 0.6681745327984349, 'colsample_bytree': 0.7049067554407874}. Best is trial 22 with value: 0.7747050335285629.\n",
      "/tmp/ipykernel_9081/713915592.py:7: FutureWarning: suggest_loguniform has been deprecated in v3.0.0. This feature will be removed in v6.0.0. See https://github.com/optuna/optuna/releases/tag/v3.0.0. Use suggest_float(..., log=True) instead.\n",
      "  'learning_rate': trial.suggest_loguniform('learning_rate', 0.01, 0.1),\n",
      "[I 2024-07-25 00:48:03,655] Trial 23 finished with value: 0.769493251846193 and parameters: {'booster': 'dart', 'max_depth': 4, 'learning_rate': 0.01923099066899697, 'subsample': 0.6882423486453313, 'colsample_bytree': 0.6866077896033245}. Best is trial 22 with value: 0.7747050335285629.\n",
      "/tmp/ipykernel_9081/713915592.py:7: FutureWarning: suggest_loguniform has been deprecated in v3.0.0. This feature will be removed in v6.0.0. See https://github.com/optuna/optuna/releases/tag/v3.0.0. Use suggest_float(..., log=True) instead.\n",
      "  'learning_rate': trial.suggest_loguniform('learning_rate', 0.01, 0.1),\n",
      "[I 2024-07-25 00:48:10,090] Trial 24 finished with value: 0.768203038791274 and parameters: {'booster': 'dart', 'max_depth': 4, 'learning_rate': 0.024285486798591334, 'subsample': 0.6555825929271255, 'colsample_bytree': 0.7735286631190874}. Best is trial 22 with value: 0.7747050335285629.\n",
      "/tmp/ipykernel_9081/713915592.py:7: FutureWarning: suggest_loguniform has been deprecated in v3.0.0. This feature will be removed in v6.0.0. See https://github.com/optuna/optuna/releases/tag/v3.0.0. Use suggest_float(..., log=True) instead.\n",
      "  'learning_rate': trial.suggest_loguniform('learning_rate', 0.01, 0.1),\n",
      "[I 2024-07-25 00:48:16,489] Trial 25 finished with value: 0.7708174178762415 and parameters: {'booster': 'dart', 'max_depth': 6, 'learning_rate': 0.012341122381055725, 'subsample': 0.743363785534057, 'colsample_bytree': 0.5799241321418276}. Best is trial 22 with value: 0.7747050335285629.\n",
      "/tmp/ipykernel_9081/713915592.py:7: FutureWarning: suggest_loguniform has been deprecated in v3.0.0. This feature will be removed in v6.0.0. See https://github.com/optuna/optuna/releases/tag/v3.0.0. Use suggest_float(..., log=True) instead.\n",
      "  'learning_rate': trial.suggest_loguniform('learning_rate', 0.01, 0.1),\n",
      "[I 2024-07-25 00:48:23,091] Trial 26 finished with value: 0.7773194126135302 and parameters: {'booster': 'dart', 'max_depth': 5, 'learning_rate': 0.017432589734406246, 'subsample': 0.8927777971025214, 'colsample_bytree': 0.758327856184088}. Best is trial 26 with value: 0.7773194126135302.\n",
      "/tmp/ipykernel_9081/713915592.py:7: FutureWarning: suggest_loguniform has been deprecated in v3.0.0. This feature will be removed in v6.0.0. See https://github.com/optuna/optuna/releases/tag/v3.0.0. Use suggest_float(..., log=True) instead.\n",
      "  'learning_rate': trial.suggest_loguniform('learning_rate', 0.01, 0.1),\n",
      "[I 2024-07-25 00:48:30,628] Trial 27 finished with value: 0.7721330956625074 and parameters: {'booster': 'dart', 'max_depth': 5, 'learning_rate': 0.017328833557975296, 'subsample': 0.8979208785842306, 'colsample_bytree': 0.7456569553897024}. Best is trial 26 with value: 0.7773194126135302.\n",
      "/tmp/ipykernel_9081/713915592.py:7: FutureWarning: suggest_loguniform has been deprecated in v3.0.0. This feature will be removed in v6.0.0. See https://github.com/optuna/optuna/releases/tag/v3.0.0. Use suggest_float(..., log=True) instead.\n",
      "  'learning_rate': trial.suggest_loguniform('learning_rate', 0.01, 0.1),\n",
      "[I 2024-07-25 00:48:31,238] Trial 28 finished with value: 0.7707749766573296 and parameters: {'booster': 'gbtree', 'max_depth': 4, 'learning_rate': 0.013140449217130987, 'subsample': 0.8425360329318471, 'colsample_bytree': 0.6743910276133223}. Best is trial 26 with value: 0.7773194126135302.\n",
      "/tmp/ipykernel_9081/713915592.py:7: FutureWarning: suggest_loguniform has been deprecated in v3.0.0. This feature will be removed in v6.0.0. See https://github.com/optuna/optuna/releases/tag/v3.0.0. Use suggest_float(..., log=True) instead.\n",
      "  'learning_rate': trial.suggest_loguniform('learning_rate', 0.01, 0.1),\n",
      "[I 2024-07-25 00:48:38,262] Trial 29 finished with value: 0.7643069348951702 and parameters: {'booster': 'dart', 'max_depth': 5, 'learning_rate': 0.010371379176203559, 'subsample': 0.618632935754765, 'colsample_bytree': 0.6248190500423755}. Best is trial 26 with value: 0.7773194126135302.\n",
      "/tmp/ipykernel_9081/713915592.py:7: FutureWarning: suggest_loguniform has been deprecated in v3.0.0. This feature will be removed in v6.0.0. See https://github.com/optuna/optuna/releases/tag/v3.0.0. Use suggest_float(..., log=True) instead.\n",
      "  'learning_rate': trial.suggest_loguniform('learning_rate', 0.01, 0.1),\n",
      "[I 2024-07-25 00:48:46,136] Trial 30 finished with value: 0.7734063322298617 and parameters: {'booster': 'dart', 'max_depth': 3, 'learning_rate': 0.02149616790461767, 'subsample': 0.6798838593263392, 'colsample_bytree': 0.8378776949096939}. Best is trial 26 with value: 0.7773194126135302.\n",
      "/tmp/ipykernel_9081/713915592.py:7: FutureWarning: suggest_loguniform has been deprecated in v3.0.0. This feature will be removed in v6.0.0. See https://github.com/optuna/optuna/releases/tag/v3.0.0. Use suggest_float(..., log=True) instead.\n",
      "  'learning_rate': trial.suggest_loguniform('learning_rate', 0.01, 0.1),\n",
      "[I 2024-07-25 00:48:53,715] Trial 31 finished with value: 0.773414820473644 and parameters: {'booster': 'dart', 'max_depth': 3, 'learning_rate': 0.0205369088868494, 'subsample': 0.6534924568954947, 'colsample_bytree': 0.8314845387859797}. Best is trial 26 with value: 0.7773194126135302.\n",
      "/tmp/ipykernel_9081/713915592.py:7: FutureWarning: suggest_loguniform has been deprecated in v3.0.0. This feature will be removed in v6.0.0. See https://github.com/optuna/optuna/releases/tag/v3.0.0. Use suggest_float(..., log=True) instead.\n",
      "  'learning_rate': trial.suggest_loguniform('learning_rate', 0.01, 0.1),\n",
      "[I 2024-07-25 00:49:00,342] Trial 32 finished with value: 0.772099142687378 and parameters: {'booster': 'dart', 'max_depth': 3, 'learning_rate': 0.022205476604118982, 'subsample': 0.6671067414216335, 'colsample_bytree': 0.8460847917639159}. Best is trial 26 with value: 0.7773194126135302.\n",
      "/tmp/ipykernel_9081/713915592.py:7: FutureWarning: suggest_loguniform has been deprecated in v3.0.0. This feature will be removed in v6.0.0. See https://github.com/optuna/optuna/releases/tag/v3.0.0. Use suggest_float(..., log=True) instead.\n",
      "  'learning_rate': trial.suggest_loguniform('learning_rate', 0.01, 0.1),\n"
     ]
    },
    {
     "name": "stderr",
     "output_type": "stream",
     "text": [
      "[I 2024-07-25 00:49:08,241] Trial 33 finished with value: 0.7708004413886768 and parameters: {'booster': 'dart', 'max_depth': 3, 'learning_rate': 0.025447839431015237, 'subsample': 0.5673130055582063, 'colsample_bytree': 0.8248129203232708}. Best is trial 26 with value: 0.7773194126135302.\n",
      "/tmp/ipykernel_9081/713915592.py:7: FutureWarning: suggest_loguniform has been deprecated in v3.0.0. This feature will be removed in v6.0.0. See https://github.com/optuna/optuna/releases/tag/v3.0.0. Use suggest_float(..., log=True) instead.\n",
      "  'learning_rate': trial.suggest_loguniform('learning_rate', 0.01, 0.1),\n",
      "[I 2024-07-25 00:49:14,862] Trial 34 finished with value: 0.7721246074187251 and parameters: {'booster': 'dart', 'max_depth': 3, 'learning_rate': 0.014574192871512893, 'subsample': 0.6197682352322952, 'colsample_bytree': 0.7760441333424679}. Best is trial 26 with value: 0.7773194126135302.\n",
      "/tmp/ipykernel_9081/713915592.py:7: FutureWarning: suggest_loguniform has been deprecated in v3.0.0. This feature will be removed in v6.0.0. See https://github.com/optuna/optuna/releases/tag/v3.0.0. Use suggest_float(..., log=True) instead.\n",
      "  'learning_rate': trial.suggest_loguniform('learning_rate', 0.01, 0.1),\n",
      "/home/tawhid885/.local/lib/python3.10/site-packages/xgboost/core.py:160: UserWarning: [00:49:14] WARNING: /workspace/src/learner.cc:742: \n",
      "Parameters: { \"colsample_bytree\", \"max_depth\", \"subsample\" } are not used.\n",
      "\n",
      "  warnings.warn(smsg, UserWarning)\n",
      "/home/tawhid885/.local/lib/python3.10/site-packages/xgboost/core.py:160: UserWarning: [00:49:14] WARNING: /workspace/src/learner.cc:742: \n",
      "Parameters: { \"colsample_bytree\", \"max_depth\", \"subsample\" } are not used.\n",
      "\n",
      "  warnings.warn(smsg, UserWarning)\n",
      "/home/tawhid885/.local/lib/python3.10/site-packages/xgboost/core.py:160: UserWarning: [00:49:14] WARNING: /workspace/src/learner.cc:742: \n",
      "Parameters: { \"colsample_bytree\", \"max_depth\", \"subsample\" } are not used.\n",
      "\n",
      "  warnings.warn(smsg, UserWarning)\n",
      "/home/tawhid885/.local/lib/python3.10/site-packages/xgboost/core.py:160: UserWarning: [00:49:14] WARNING: /workspace/src/learner.cc:742: \n",
      "Parameters: { \"colsample_bytree\", \"max_depth\", \"subsample\" } are not used.\n",
      "\n",
      "  warnings.warn(smsg, UserWarning)\n",
      "/home/tawhid885/.local/lib/python3.10/site-packages/xgboost/core.py:160: UserWarning: [00:49:15] WARNING: /workspace/src/learner.cc:742: \n",
      "Parameters: { \"colsample_bytree\", \"max_depth\", \"subsample\" } are not used.\n",
      "\n",
      "  warnings.warn(smsg, UserWarning)\n",
      "[I 2024-07-25 00:49:15,057] Trial 35 finished with value: 0.6835667600373482 and parameters: {'booster': 'gblinear', 'max_depth': 4, 'learning_rate': 0.07581495044908983, 'subsample': 0.6572530134410995, 'colsample_bytree': 0.7968883464690067}. Best is trial 26 with value: 0.7773194126135302.\n",
      "/tmp/ipykernel_9081/713915592.py:7: FutureWarning: suggest_loguniform has been deprecated in v3.0.0. This feature will be removed in v6.0.0. See https://github.com/optuna/optuna/releases/tag/v3.0.0. Use suggest_float(..., log=True) instead.\n",
      "  'learning_rate': trial.suggest_loguniform('learning_rate', 0.01, 0.1),\n",
      "[I 2024-07-25 00:49:24,736] Trial 36 finished with value: 0.7642814701638231 and parameters: {'booster': 'dart', 'max_depth': 3, 'learning_rate': 0.036297147772442785, 'subsample': 0.5312134110215748, 'colsample_bytree': 0.9435538185776332}. Best is trial 26 with value: 0.7773194126135302.\n",
      "/tmp/ipykernel_9081/713915592.py:7: FutureWarning: suggest_loguniform has been deprecated in v3.0.0. This feature will be removed in v6.0.0. See https://github.com/optuna/optuna/releases/tag/v3.0.0. Use suggest_float(..., log=True) instead.\n",
      "  'learning_rate': trial.suggest_loguniform('learning_rate', 0.01, 0.1),\n",
      "/home/tawhid885/.local/lib/python3.10/site-packages/xgboost/core.py:160: UserWarning: [00:49:24] WARNING: /workspace/src/learner.cc:742: \n",
      "Parameters: { \"colsample_bytree\", \"max_depth\", \"subsample\" } are not used.\n",
      "\n",
      "  warnings.warn(smsg, UserWarning)\n",
      "/home/tawhid885/.local/lib/python3.10/site-packages/xgboost/core.py:160: UserWarning: [00:49:24] WARNING: /workspace/src/learner.cc:742: \n",
      "Parameters: { \"colsample_bytree\", \"max_depth\", \"subsample\" } are not used.\n",
      "\n",
      "  warnings.warn(smsg, UserWarning)\n",
      "/home/tawhid885/.local/lib/python3.10/site-packages/xgboost/core.py:160: UserWarning: [00:49:24] WARNING: /workspace/src/learner.cc:742: \n",
      "Parameters: { \"colsample_bytree\", \"max_depth\", \"subsample\" } are not used.\n",
      "\n",
      "  warnings.warn(smsg, UserWarning)\n",
      "/home/tawhid885/.local/lib/python3.10/site-packages/xgboost/core.py:160: UserWarning: [00:49:24] WARNING: /workspace/src/learner.cc:742: \n",
      "Parameters: { \"colsample_bytree\", \"max_depth\", \"subsample\" } are not used.\n",
      "\n",
      "  warnings.warn(smsg, UserWarning)\n",
      "/home/tawhid885/.local/lib/python3.10/site-packages/xgboost/core.py:160: UserWarning: [00:49:24] WARNING: /workspace/src/learner.cc:742: \n",
      "Parameters: { \"colsample_bytree\", \"max_depth\", \"subsample\" } are not used.\n",
      "\n",
      "  warnings.warn(smsg, UserWarning)\n",
      "[I 2024-07-25 00:49:24,939] Trial 37 finished with value: 0.6692725575078516 and parameters: {'booster': 'gblinear', 'max_depth': 4, 'learning_rate': 0.02680139194013156, 'subsample': 0.727962741070967, 'colsample_bytree': 0.8251514862630971}. Best is trial 26 with value: 0.7773194126135302.\n",
      "/tmp/ipykernel_9081/713915592.py:7: FutureWarning: suggest_loguniform has been deprecated in v3.0.0. This feature will be removed in v6.0.0. See https://github.com/optuna/optuna/releases/tag/v3.0.0. Use suggest_float(..., log=True) instead.\n",
      "  'learning_rate': trial.suggest_loguniform('learning_rate', 0.01, 0.1),\n",
      "[I 2024-07-25 00:49:30,445] Trial 38 finished with value: 0.7734148204736441 and parameters: {'booster': 'dart', 'max_depth': 3, 'learning_rate': 0.022613441597311965, 'subsample': 0.6316134810609809, 'colsample_bytree': 0.7655459459330105}. Best is trial 26 with value: 0.7773194126135302.\n",
      "/tmp/ipykernel_9081/713915592.py:7: FutureWarning: suggest_loguniform has been deprecated in v3.0.0. This feature will be removed in v6.0.0. See https://github.com/optuna/optuna/releases/tag/v3.0.0. Use suggest_float(..., log=True) instead.\n",
      "  'learning_rate': trial.suggest_loguniform('learning_rate', 0.01, 0.1),\n",
      "[I 2024-07-25 00:49:31,016] Trial 39 finished with value: 0.7695017400899753 and parameters: {'booster': 'gbtree', 'max_depth': 5, 'learning_rate': 0.029868329443651583, 'subsample': 0.6351322652488047, 'colsample_bytree': 0.6615362451854017}. Best is trial 26 with value: 0.7773194126135302.\n",
      "/tmp/ipykernel_9081/713915592.py:7: FutureWarning: suggest_loguniform has been deprecated in v3.0.0. This feature will be removed in v6.0.0. See https://github.com/optuna/optuna/releases/tag/v3.0.0. Use suggest_float(..., log=True) instead.\n",
      "  'learning_rate': trial.suggest_loguniform('learning_rate', 0.01, 0.1),\n",
      "/home/tawhid885/.local/lib/python3.10/site-packages/xgboost/core.py:160: UserWarning: [00:49:31] WARNING: /workspace/src/learner.cc:742: \n",
      "Parameters: { \"colsample_bytree\", \"max_depth\", \"subsample\" } are not used.\n",
      "\n",
      "  warnings.warn(smsg, UserWarning)\n",
      "/home/tawhid885/.local/lib/python3.10/site-packages/xgboost/core.py:160: UserWarning: [00:49:31] WARNING: /workspace/src/learner.cc:742: \n",
      "Parameters: { \"colsample_bytree\", \"max_depth\", \"subsample\" } are not used.\n",
      "\n",
      "  warnings.warn(smsg, UserWarning)\n",
      "/home/tawhid885/.local/lib/python3.10/site-packages/xgboost/core.py:160: UserWarning: [00:49:31] WARNING: /workspace/src/learner.cc:742: \n",
      "Parameters: { \"colsample_bytree\", \"max_depth\", \"subsample\" } are not used.\n",
      "\n",
      "  warnings.warn(smsg, UserWarning)\n",
      "/home/tawhid885/.local/lib/python3.10/site-packages/xgboost/core.py:160: UserWarning: [00:49:31] WARNING: /workspace/src/learner.cc:742: \n",
      "Parameters: { \"colsample_bytree\", \"max_depth\", \"subsample\" } are not used.\n",
      "\n",
      "  warnings.warn(smsg, UserWarning)\n",
      "/home/tawhid885/.local/lib/python3.10/site-packages/xgboost/core.py:160: UserWarning: [00:49:31] WARNING: /workspace/src/learner.cc:742: \n",
      "Parameters: { \"colsample_bytree\", \"max_depth\", \"subsample\" } are not used.\n",
      "\n",
      "  warnings.warn(smsg, UserWarning)\n",
      "[I 2024-07-25 00:49:31,195] Trial 40 finished with value: 0.6653849418555301 and parameters: {'booster': 'gblinear', 'max_depth': 9, 'learning_rate': 0.020196342721248588, 'subsample': 0.5793583208809143, 'colsample_bytree': 0.6342875179688372}. Best is trial 26 with value: 0.7773194126135302.\n"
     ]
    },
    {
     "name": "stderr",
     "output_type": "stream",
     "text": [
      "/tmp/ipykernel_9081/713915592.py:7: FutureWarning: suggest_loguniform has been deprecated in v3.0.0. This feature will be removed in v6.0.0. See https://github.com/optuna/optuna/releases/tag/v3.0.0. Use suggest_float(..., log=True) instead.\n",
      "  'learning_rate': trial.suggest_loguniform('learning_rate', 0.01, 0.1),\n",
      "[I 2024-07-25 00:49:36,603] Trial 41 finished with value: 0.7760122230710467 and parameters: {'booster': 'dart', 'max_depth': 3, 'learning_rate': 0.02319305461101523, 'subsample': 0.6756356431783086, 'colsample_bytree': 0.7516410581754812}. Best is trial 26 with value: 0.7773194126135302.\n",
      "/tmp/ipykernel_9081/713915592.py:7: FutureWarning: suggest_loguniform has been deprecated in v3.0.0. This feature will be removed in v6.0.0. See https://github.com/optuna/optuna/releases/tag/v3.0.0. Use suggest_float(..., log=True) instead.\n",
      "  'learning_rate': trial.suggest_loguniform('learning_rate', 0.01, 0.1),\n",
      "[I 2024-07-25 00:49:42,505] Trial 42 finished with value: 0.7681945505474916 and parameters: {'booster': 'dart', 'max_depth': 3, 'learning_rate': 0.017064633563971213, 'subsample': 0.601854197349109, 'colsample_bytree': 0.7593771064898269}. Best is trial 26 with value: 0.7773194126135302.\n",
      "/tmp/ipykernel_9081/713915592.py:7: FutureWarning: suggest_loguniform has been deprecated in v3.0.0. This feature will be removed in v6.0.0. See https://github.com/optuna/optuna/releases/tag/v3.0.0. Use suggest_float(..., log=True) instead.\n",
      "  'learning_rate': trial.suggest_loguniform('learning_rate', 0.01, 0.1),\n",
      "[I 2024-07-25 00:49:49,371] Trial 43 finished with value: 0.7734148204736441 and parameters: {'booster': 'dart', 'max_depth': 3, 'learning_rate': 0.025538124290074748, 'subsample': 0.6359655181939511, 'colsample_bytree': 0.6944324683212397}. Best is trial 26 with value: 0.7773194126135302.\n",
      "/tmp/ipykernel_9081/713915592.py:7: FutureWarning: suggest_loguniform has been deprecated in v3.0.0. This feature will be removed in v6.0.0. See https://github.com/optuna/optuna/releases/tag/v3.0.0. Use suggest_float(..., log=True) instead.\n",
      "  'learning_rate': trial.suggest_loguniform('learning_rate', 0.01, 0.1),\n",
      "[I 2024-07-25 00:49:56,723] Trial 44 finished with value: 0.7708004413886766 and parameters: {'booster': 'dart', 'max_depth': 4, 'learning_rate': 0.024318136024587416, 'subsample': 0.635345230242728, 'colsample_bytree': 0.6956188754224091}. Best is trial 26 with value: 0.7773194126135302.\n",
      "/tmp/ipykernel_9081/713915592.py:7: FutureWarning: suggest_loguniform has been deprecated in v3.0.0. This feature will be removed in v6.0.0. See https://github.com/optuna/optuna/releases/tag/v3.0.0. Use suggest_float(..., log=True) instead.\n",
      "  'learning_rate': trial.suggest_loguniform('learning_rate', 0.01, 0.1),\n",
      "[I 2024-07-25 00:50:03,657] Trial 45 finished with value: 0.7681945505474916 and parameters: {'booster': 'dart', 'max_depth': 3, 'learning_rate': 0.03579072615457505, 'subsample': 0.7179801684310845, 'colsample_bytree': 0.6122609340138563}. Best is trial 26 with value: 0.7773194126135302.\n",
      "/tmp/ipykernel_9081/713915592.py:7: FutureWarning: suggest_loguniform has been deprecated in v3.0.0. This feature will be removed in v6.0.0. See https://github.com/optuna/optuna/releases/tag/v3.0.0. Use suggest_float(..., log=True) instead.\n",
      "  'learning_rate': trial.suggest_loguniform('learning_rate', 0.01, 0.1),\n",
      "[I 2024-07-25 00:50:04,400] Trial 46 finished with value: 0.7668958492487905 and parameters: {'booster': 'gbtree', 'max_depth': 4, 'learning_rate': 0.023487896165194755, 'subsample': 0.7662171657545355, 'colsample_bytree': 0.7368489478934171}. Best is trial 26 with value: 0.7773194126135302.\n",
      "/tmp/ipykernel_9081/713915592.py:7: FutureWarning: suggest_loguniform has been deprecated in v3.0.0. This feature will be removed in v6.0.0. See https://github.com/optuna/optuna/releases/tag/v3.0.0. Use suggest_float(..., log=True) instead.\n",
      "  'learning_rate': trial.suggest_loguniform('learning_rate', 0.01, 0.1),\n",
      "[I 2024-07-25 00:50:12,378] Trial 47 finished with value: 0.7747050335285629 and parameters: {'booster': 'dart', 'max_depth': 4, 'learning_rate': 0.027491774635959677, 'subsample': 0.5432984335845967, 'colsample_bytree': 0.658875927434602}. Best is trial 26 with value: 0.7773194126135302.\n",
      "/tmp/ipykernel_9081/713915592.py:7: FutureWarning: suggest_loguniform has been deprecated in v3.0.0. This feature will be removed in v6.0.0. See https://github.com/optuna/optuna/releases/tag/v3.0.0. Use suggest_float(..., log=True) instead.\n",
      "  'learning_rate': trial.suggest_loguniform('learning_rate', 0.01, 0.1),\n",
      "[I 2024-07-25 00:50:21,037] Trial 48 finished with value: 0.7695102283337577 and parameters: {'booster': 'dart', 'max_depth': 5, 'learning_rate': 0.02745653977362397, 'subsample': 0.52185479134055, 'colsample_bytree': 0.6465109287171196}. Best is trial 26 with value: 0.7773194126135302.\n",
      "/tmp/ipykernel_9081/713915592.py:7: FutureWarning: suggest_loguniform has been deprecated in v3.0.0. This feature will be removed in v6.0.0. See https://github.com/optuna/optuna/releases/tag/v3.0.0. Use suggest_float(..., log=True) instead.\n",
      "  'learning_rate': trial.suggest_loguniform('learning_rate', 0.01, 0.1),\n",
      "/home/tawhid885/.local/lib/python3.10/site-packages/xgboost/core.py:160: UserWarning: [00:50:21] WARNING: /workspace/src/learner.cc:742: \n",
      "Parameters: { \"colsample_bytree\", \"max_depth\", \"subsample\" } are not used.\n",
      "\n",
      "  warnings.warn(smsg, UserWarning)\n",
      "/home/tawhid885/.local/lib/python3.10/site-packages/xgboost/core.py:160: UserWarning: [00:50:21] WARNING: /workspace/src/learner.cc:742: \n",
      "Parameters: { \"colsample_bytree\", \"max_depth\", \"subsample\" } are not used.\n",
      "\n",
      "  warnings.warn(smsg, UserWarning)\n",
      "/home/tawhid885/.local/lib/python3.10/site-packages/xgboost/core.py:160: UserWarning: [00:50:21] WARNING: /workspace/src/learner.cc:742: \n",
      "Parameters: { \"colsample_bytree\", \"max_depth\", \"subsample\" } are not used.\n",
      "\n",
      "  warnings.warn(smsg, UserWarning)\n",
      "/home/tawhid885/.local/lib/python3.10/site-packages/xgboost/core.py:160: UserWarning: [00:50:21] WARNING: /workspace/src/learner.cc:742: \n",
      "Parameters: { \"colsample_bytree\", \"max_depth\", \"subsample\" } are not used.\n",
      "\n",
      "  warnings.warn(smsg, UserWarning)\n",
      "/home/tawhid885/.local/lib/python3.10/site-packages/xgboost/core.py:160: UserWarning: [00:50:21] WARNING: /workspace/src/learner.cc:742: \n",
      "Parameters: { \"colsample_bytree\", \"max_depth\", \"subsample\" } are not used.\n",
      "\n",
      "  warnings.warn(smsg, UserWarning)\n",
      "[I 2024-07-25 00:50:21,566] Trial 49 finished with value: 0.6718954248366013 and parameters: {'booster': 'gblinear', 'max_depth': 5, 'learning_rate': 0.03331844845319016, 'subsample': 0.5534306110520091, 'colsample_bytree': 0.5854502015011852}. Best is trial 26 with value: 0.7773194126135302.\n",
      "/tmp/ipykernel_9081/713915592.py:7: FutureWarning: suggest_loguniform has been deprecated in v3.0.0. This feature will be removed in v6.0.0. See https://github.com/optuna/optuna/releases/tag/v3.0.0. Use suggest_float(..., log=True) instead.\n",
      "  'learning_rate': trial.suggest_loguniform('learning_rate', 0.01, 0.1),\n",
      "[I 2024-07-25 00:50:31,015] Trial 50 finished with value: 0.7721076309311603 and parameters: {'booster': 'dart', 'max_depth': 4, 'learning_rate': 0.029127313742843372, 'subsample': 0.8190538240927528, 'colsample_bytree': 0.6700044591292217}. Best is trial 26 with value: 0.7773194126135302.\n",
      "/tmp/ipykernel_9081/713915592.py:7: FutureWarning: suggest_loguniform has been deprecated in v3.0.0. This feature will be removed in v6.0.0. See https://github.com/optuna/optuna/releases/tag/v3.0.0. Use suggest_float(..., log=True) instead.\n",
      "  'learning_rate': trial.suggest_loguniform('learning_rate', 0.01, 0.1),\n",
      "[I 2024-07-25 00:50:36,805] Trial 51 finished with value: 0.774705033528563 and parameters: {'booster': 'dart', 'max_depth': 3, 'learning_rate': 0.04324839971400697, 'subsample': 0.598892843027184, 'colsample_bytree': 0.7184165620590217}. Best is trial 26 with value: 0.7773194126135302.\n",
      "/tmp/ipykernel_9081/713915592.py:7: FutureWarning: suggest_loguniform has been deprecated in v3.0.0. This feature will be removed in v6.0.0. See https://github.com/optuna/optuna/releases/tag/v3.0.0. Use suggest_float(..., log=True) instead.\n",
      "  'learning_rate': trial.suggest_loguniform('learning_rate', 0.01, 0.1),\n"
     ]
    },
    {
     "name": "stderr",
     "output_type": "stream",
     "text": [
      "[I 2024-07-25 00:50:44,195] Trial 52 finished with value: 0.7825227060521178 and parameters: {'booster': 'dart', 'max_depth': 4, 'learning_rate': 0.04061867273217935, 'subsample': 0.5363024811125284, 'colsample_bytree': 0.7161344232467516}. Best is trial 52 with value: 0.7825227060521178.\n",
      "/tmp/ipykernel_9081/713915592.py:7: FutureWarning: suggest_loguniform has been deprecated in v3.0.0. This feature will be removed in v6.0.0. See https://github.com/optuna/optuna/releases/tag/v3.0.0. Use suggest_float(..., log=True) instead.\n",
      "  'learning_rate': trial.suggest_loguniform('learning_rate', 0.01, 0.1),\n",
      "[I 2024-07-25 00:50:49,902] Trial 53 finished with value: 0.7681860623037093 and parameters: {'booster': 'dart', 'max_depth': 4, 'learning_rate': 0.041000721202845355, 'subsample': 0.5005750977980253, 'colsample_bytree': 0.70829196569045}. Best is trial 52 with value: 0.7825227060521178.\n",
      "/tmp/ipykernel_9081/713915592.py:7: FutureWarning: suggest_loguniform has been deprecated in v3.0.0. This feature will be removed in v6.0.0. See https://github.com/optuna/optuna/releases/tag/v3.0.0. Use suggest_float(..., log=True) instead.\n",
      "  'learning_rate': trial.suggest_loguniform('learning_rate', 0.01, 0.1),\n",
      "[I 2024-07-25 00:50:58,777] Trial 54 finished with value: 0.7734233087174263 and parameters: {'booster': 'dart', 'max_depth': 4, 'learning_rate': 0.04835776265874443, 'subsample': 0.5387527409392081, 'colsample_bytree': 0.7283018867488408}. Best is trial 52 with value: 0.7825227060521178.\n",
      "/tmp/ipykernel_9081/713915592.py:7: FutureWarning: suggest_loguniform has been deprecated in v3.0.0. This feature will be removed in v6.0.0. See https://github.com/optuna/optuna/releases/tag/v3.0.0. Use suggest_float(..., log=True) instead.\n",
      "  'learning_rate': trial.suggest_loguniform('learning_rate', 0.01, 0.1),\n",
      "[I 2024-07-25 00:51:08,877] Trial 55 finished with value: 0.7668958492487904 and parameters: {'booster': 'dart', 'max_depth': 5, 'learning_rate': 0.05925577048320979, 'subsample': 0.5929280996554541, 'colsample_bytree': 0.7961549987016451}. Best is trial 52 with value: 0.7825227060521178.\n",
      "/tmp/ipykernel_9081/713915592.py:7: FutureWarning: suggest_loguniform has been deprecated in v3.0.0. This feature will be removed in v6.0.0. See https://github.com/optuna/optuna/releases/tag/v3.0.0. Use suggest_float(..., log=True) instead.\n",
      "  'learning_rate': trial.suggest_loguniform('learning_rate', 0.01, 0.1),\n",
      "[I 2024-07-25 00:51:15,393] Trial 56 finished with value: 0.7682200152788388 and parameters: {'booster': 'dart', 'max_depth': 5, 'learning_rate': 0.053082380108846215, 'subsample': 0.5494211664787879, 'colsample_bytree': 0.7192180340669272}. Best is trial 52 with value: 0.7825227060521178.\n",
      "/tmp/ipykernel_9081/713915592.py:7: FutureWarning: suggest_loguniform has been deprecated in v3.0.0. This feature will be removed in v6.0.0. See https://github.com/optuna/optuna/releases/tag/v3.0.0. Use suggest_float(..., log=True) instead.\n",
      "  'learning_rate': trial.suggest_loguniform('learning_rate', 0.01, 0.1),\n",
      "[I 2024-07-25 00:51:15,880] Trial 57 finished with value: 0.7760291995586113 and parameters: {'booster': 'gbtree', 'max_depth': 4, 'learning_rate': 0.04287128646213648, 'subsample': 0.573587965399973, 'colsample_bytree': 0.6815548107319187}. Best is trial 52 with value: 0.7825227060521178.\n",
      "/tmp/ipykernel_9081/713915592.py:7: FutureWarning: suggest_loguniform has been deprecated in v3.0.0. This feature will be removed in v6.0.0. See https://github.com/optuna/optuna/releases/tag/v3.0.0. Use suggest_float(..., log=True) instead.\n",
      "  'learning_rate': trial.suggest_loguniform('learning_rate', 0.01, 0.1),\n",
      "[I 2024-07-25 00:51:16,465] Trial 58 finished with value: 0.7604193192428487 and parameters: {'booster': 'gbtree', 'max_depth': 5, 'learning_rate': 0.04162650967236046, 'subsample': 0.5784529779383113, 'colsample_bytree': 0.7468299726742482}. Best is trial 52 with value: 0.7825227060521178.\n",
      "/tmp/ipykernel_9081/713915592.py:7: FutureWarning: suggest_loguniform has been deprecated in v3.0.0. This feature will be removed in v6.0.0. See https://github.com/optuna/optuna/releases/tag/v3.0.0. Use suggest_float(..., log=True) instead.\n",
      "  'learning_rate': trial.suggest_loguniform('learning_rate', 0.01, 0.1),\n",
      "[I 2024-07-25 00:51:17,348] Trial 59 finished with value: 0.7681860623037093 and parameters: {'booster': 'gbtree', 'max_depth': 8, 'learning_rate': 0.04162720512616299, 'subsample': 0.6045269812330729, 'colsample_bytree': 0.6822508743104362}. Best is trial 52 with value: 0.7825227060521178.\n",
      "/tmp/ipykernel_9081/713915592.py:7: FutureWarning: suggest_loguniform has been deprecated in v3.0.0. This feature will be removed in v6.0.0. See https://github.com/optuna/optuna/releases/tag/v3.0.0. Use suggest_float(..., log=True) instead.\n",
      "  'learning_rate': trial.suggest_loguniform('learning_rate', 0.01, 0.1),\n",
      "[I 2024-07-25 00:51:17,867] Trial 60 finished with value: 0.7747220100161276 and parameters: {'booster': 'gbtree', 'max_depth': 4, 'learning_rate': 0.055113338854114305, 'subsample': 0.966620812445526, 'colsample_bytree': 0.7858836457948697}. Best is trial 52 with value: 0.7825227060521178.\n",
      "/tmp/ipykernel_9081/713915592.py:7: FutureWarning: suggest_loguniform has been deprecated in v3.0.0. This feature will be removed in v6.0.0. See https://github.com/optuna/optuna/releases/tag/v3.0.0. Use suggest_float(..., log=True) instead.\n",
      "  'learning_rate': trial.suggest_loguniform('learning_rate', 0.01, 0.1),\n",
      "[I 2024-07-25 00:51:18,376] Trial 61 finished with value: 0.7604362957304134 and parameters: {'booster': 'gbtree', 'max_depth': 4, 'learning_rate': 0.06861402036858982, 'subsample': 0.9497825409310178, 'colsample_bytree': 0.7308275551503232}. Best is trial 52 with value: 0.7825227060521178.\n",
      "/tmp/ipykernel_9081/713915592.py:7: FutureWarning: suggest_loguniform has been deprecated in v3.0.0. This feature will be removed in v6.0.0. See https://github.com/optuna/optuna/releases/tag/v3.0.0. Use suggest_float(..., log=True) instead.\n",
      "  'learning_rate': trial.suggest_loguniform('learning_rate', 0.01, 0.1),\n",
      "[I 2024-07-25 00:51:18,890] Trial 62 finished with value: 0.7682115270350565 and parameters: {'booster': 'gbtree', 'max_depth': 4, 'learning_rate': 0.0535765831738752, 'subsample': 0.8886295782785582, 'colsample_bytree': 0.7836400142870512}. Best is trial 52 with value: 0.7825227060521178.\n",
      "/tmp/ipykernel_9081/713915592.py:7: FutureWarning: suggest_loguniform has been deprecated in v3.0.0. This feature will be removed in v6.0.0. See https://github.com/optuna/optuna/releases/tag/v3.0.0. Use suggest_float(..., log=True) instead.\n",
      "  'learning_rate': trial.suggest_loguniform('learning_rate', 0.01, 0.1),\n",
      "[I 2024-07-25 00:51:19,753] Trial 63 finished with value: 0.7695356930651048 and parameters: {'booster': 'gbtree', 'max_depth': 7, 'learning_rate': 0.04593251433955195, 'subsample': 0.9189356448934692, 'colsample_bytree': 0.7607507005785156}. Best is trial 52 with value: 0.7825227060521178.\n",
      "/tmp/ipykernel_9081/713915592.py:7: FutureWarning: suggest_loguniform has been deprecated in v3.0.0. This feature will be removed in v6.0.0. See https://github.com/optuna/optuna/releases/tag/v3.0.0. Use suggest_float(..., log=True) instead.\n",
      "  'learning_rate': trial.suggest_loguniform('learning_rate', 0.01, 0.1),\n",
      "[I 2024-07-25 00:51:20,279] Trial 64 finished with value: 0.7734402852049911 and parameters: {'booster': 'gbtree', 'max_depth': 4, 'learning_rate': 0.03902463422923556, 'subsample': 0.9720217125891258, 'colsample_bytree': 0.8119471379581236}. Best is trial 52 with value: 0.7825227060521178.\n",
      "/tmp/ipykernel_9081/713915592.py:7: FutureWarning: suggest_loguniform has been deprecated in v3.0.0. This feature will be removed in v6.0.0. See https://github.com/optuna/optuna/releases/tag/v3.0.0. Use suggest_float(..., log=True) instead.\n",
      "  'learning_rate': trial.suggest_loguniform('learning_rate', 0.01, 0.1),\n",
      "[I 2024-07-25 00:51:20,685] Trial 65 finished with value: 0.7682030387912742 and parameters: {'booster': 'gbtree', 'max_depth': 3, 'learning_rate': 0.06119064633436464, 'subsample': 0.9284539013302707, 'colsample_bytree': 0.7034122204122123}. Best is trial 52 with value: 0.7825227060521178.\n",
      "/tmp/ipykernel_9081/713915592.py:7: FutureWarning: suggest_loguniform has been deprecated in v3.0.0. This feature will be removed in v6.0.0. See https://github.com/optuna/optuna/releases/tag/v3.0.0. Use suggest_float(..., log=True) instead.\n",
      "  'learning_rate': trial.suggest_loguniform('learning_rate', 0.01, 0.1),\n"
     ]
    },
    {
     "name": "stderr",
     "output_type": "stream",
     "text": [
      "[I 2024-07-25 00:51:21,190] Trial 66 finished with value: 0.7656056361938715 and parameters: {'booster': 'gbtree', 'max_depth': 4, 'learning_rate': 0.04456764604418109, 'subsample': 0.9974296809882542, 'colsample_bytree': 0.5246843094974536}. Best is trial 52 with value: 0.7825227060521178.\n",
      "/tmp/ipykernel_9081/713915592.py:7: FutureWarning: suggest_loguniform has been deprecated in v3.0.0. This feature will be removed in v6.0.0. See https://github.com/optuna/optuna/releases/tag/v3.0.0. Use suggest_float(..., log=True) instead.\n",
      "  'learning_rate': trial.suggest_loguniform('learning_rate', 0.01, 0.1),\n",
      "[I 2024-07-25 00:51:22,001] Trial 67 finished with value: 0.7682285035226212 and parameters: {'booster': 'gbtree', 'max_depth': 6, 'learning_rate': 0.053114969179896575, 'subsample': 0.8682836610896327, 'colsample_bytree': 0.8643943938966356}. Best is trial 52 with value: 0.7825227060521178.\n",
      "/tmp/ipykernel_9081/713915592.py:7: FutureWarning: suggest_loguniform has been deprecated in v3.0.0. This feature will be removed in v6.0.0. See https://github.com/optuna/optuna/releases/tag/v3.0.0. Use suggest_float(..., log=True) instead.\n",
      "  'learning_rate': trial.suggest_loguniform('learning_rate', 0.01, 0.1),\n",
      "[I 2024-07-25 00:51:22,425] Trial 68 finished with value: 0.7694847636024107 and parameters: {'booster': 'gbtree', 'max_depth': 3, 'learning_rate': 0.033656448001832366, 'subsample': 0.6796100042331322, 'colsample_bytree': 0.7427341221029662}. Best is trial 52 with value: 0.7825227060521178.\n",
      "/tmp/ipykernel_9081/713915592.py:7: FutureWarning: suggest_loguniform has been deprecated in v3.0.0. This feature will be removed in v6.0.0. See https://github.com/optuna/optuna/releases/tag/v3.0.0. Use suggest_float(..., log=True) instead.\n",
      "  'learning_rate': trial.suggest_loguniform('learning_rate', 0.01, 0.1),\n",
      "[I 2024-07-25 00:51:31,997] Trial 69 finished with value: 0.7642984466513878 and parameters: {'booster': 'dart', 'max_depth': 4, 'learning_rate': 0.08745226268786307, 'subsample': 0.564477611658932, 'colsample_bytree': 0.7189975923586416}. Best is trial 52 with value: 0.7825227060521178.\n",
      "/tmp/ipykernel_9081/713915592.py:7: FutureWarning: suggest_loguniform has been deprecated in v3.0.0. This feature will be removed in v6.0.0. See https://github.com/optuna/optuna/releases/tag/v3.0.0. Use suggest_float(..., log=True) instead.\n",
      "  'learning_rate': trial.suggest_loguniform('learning_rate', 0.01, 0.1),\n",
      "/home/tawhid885/.local/lib/python3.10/site-packages/xgboost/core.py:160: UserWarning: [00:51:32] WARNING: /workspace/src/learner.cc:742: \n",
      "Parameters: { \"colsample_bytree\", \"max_depth\", \"subsample\" } are not used.\n",
      "\n",
      "  warnings.warn(smsg, UserWarning)\n",
      "/home/tawhid885/.local/lib/python3.10/site-packages/xgboost/core.py:160: UserWarning: [00:51:32] WARNING: /workspace/src/learner.cc:742: \n",
      "Parameters: { \"colsample_bytree\", \"max_depth\", \"subsample\" } are not used.\n",
      "\n",
      "  warnings.warn(smsg, UserWarning)\n",
      "/home/tawhid885/.local/lib/python3.10/site-packages/xgboost/core.py:160: UserWarning: [00:51:32] WARNING: /workspace/src/learner.cc:742: \n",
      "Parameters: { \"colsample_bytree\", \"max_depth\", \"subsample\" } are not used.\n",
      "\n",
      "  warnings.warn(smsg, UserWarning)\n",
      "/home/tawhid885/.local/lib/python3.10/site-packages/xgboost/core.py:160: UserWarning: [00:51:32] WARNING: /workspace/src/learner.cc:742: \n",
      "Parameters: { \"colsample_bytree\", \"max_depth\", \"subsample\" } are not used.\n",
      "\n",
      "  warnings.warn(smsg, UserWarning)\n",
      "/home/tawhid885/.local/lib/python3.10/site-packages/xgboost/core.py:160: UserWarning: [00:51:32] WARNING: /workspace/src/learner.cc:742: \n",
      "Parameters: { \"colsample_bytree\", \"max_depth\", \"subsample\" } are not used.\n",
      "\n",
      "  warnings.warn(smsg, UserWarning)\n",
      "[I 2024-07-25 00:51:32,747] Trial 70 finished with value: 0.6744588744588744 and parameters: {'booster': 'gblinear', 'max_depth': 5, 'learning_rate': 0.06708410830612262, 'subsample': 0.7047295144717507, 'colsample_bytree': 0.6816400670268733}. Best is trial 52 with value: 0.7825227060521178.\n",
      "/tmp/ipykernel_9081/713915592.py:7: FutureWarning: suggest_loguniform has been deprecated in v3.0.0. This feature will be removed in v6.0.0. See https://github.com/optuna/optuna/releases/tag/v3.0.0. Use suggest_float(..., log=True) instead.\n",
      "  'learning_rate': trial.suggest_loguniform('learning_rate', 0.01, 0.1),\n",
      "[I 2024-07-25 00:51:42,584] Trial 71 finished with value: 0.7708004413886766 and parameters: {'booster': 'dart', 'max_depth': 4, 'learning_rate': 0.018446713458238444, 'subsample': 0.5390817548014442, 'colsample_bytree': 0.6599971353842541}. Best is trial 52 with value: 0.7825227060521178.\n",
      "/tmp/ipykernel_9081/713915592.py:7: FutureWarning: suggest_loguniform has been deprecated in v3.0.0. This feature will be removed in v6.0.0. See https://github.com/optuna/optuna/releases/tag/v3.0.0. Use suggest_float(..., log=True) instead.\n",
      "  'learning_rate': trial.suggest_loguniform('learning_rate', 0.01, 0.1),\n",
      "[I 2024-07-25 00:51:48,555] Trial 72 finished with value: 0.769493251846193 and parameters: {'booster': 'dart', 'max_depth': 4, 'learning_rate': 0.044375901038147834, 'subsample': 0.5101839669256203, 'colsample_bytree': 0.6230337014038526}. Best is trial 52 with value: 0.7825227060521178.\n",
      "/tmp/ipykernel_9081/713915592.py:7: FutureWarning: suggest_loguniform has been deprecated in v3.0.0. This feature will be removed in v6.0.0. See https://github.com/optuna/optuna/releases/tag/v3.0.0. Use suggest_float(..., log=True) instead.\n",
      "  'learning_rate': trial.suggest_loguniform('learning_rate', 0.01, 0.1),\n",
      "[I 2024-07-25 00:51:54,611] Trial 73 finished with value: 0.7747135217723453 and parameters: {'booster': 'dart', 'max_depth': 3, 'learning_rate': 0.049840426185536066, 'subsample': 0.5807108934807328, 'colsample_bytree': 0.6573247303955098}. Best is trial 52 with value: 0.7825227060521178.\n",
      "/tmp/ipykernel_9081/713915592.py:7: FutureWarning: suggest_loguniform has been deprecated in v3.0.0. This feature will be removed in v6.0.0. See https://github.com/optuna/optuna/releases/tag/v3.0.0. Use suggest_float(..., log=True) instead.\n",
      "  'learning_rate': trial.suggest_loguniform('learning_rate', 0.01, 0.1),\n",
      "[I 2024-07-25 00:52:00,460] Trial 74 finished with value: 0.7695187165775401 and parameters: {'booster': 'dart', 'max_depth': 3, 'learning_rate': 0.050328552867078866, 'subsample': 0.6182594393156002, 'colsample_bytree': 0.6039998009508325}. Best is trial 52 with value: 0.7825227060521178.\n",
      "/tmp/ipykernel_9081/713915592.py:7: FutureWarning: suggest_loguniform has been deprecated in v3.0.0. This feature will be removed in v6.0.0. See https://github.com/optuna/optuna/releases/tag/v3.0.0. Use suggest_float(..., log=True) instead.\n",
      "  'learning_rate': trial.suggest_loguniform('learning_rate', 0.01, 0.1),\n",
      "[I 2024-07-25 00:52:05,898] Trial 75 finished with value: 0.7786266021560139 and parameters: {'booster': 'dart', 'max_depth': 3, 'learning_rate': 0.0474419765617376, 'subsample': 0.5827712658864216, 'colsample_bytree': 0.7681942665629774}. Best is trial 52 with value: 0.7825227060521178.\n",
      "/tmp/ipykernel_9081/713915592.py:7: FutureWarning: suggest_loguniform has been deprecated in v3.0.0. This feature will be removed in v6.0.0. See https://github.com/optuna/optuna/releases/tag/v3.0.0. Use suggest_float(..., log=True) instead.\n",
      "  'learning_rate': trial.suggest_loguniform('learning_rate', 0.01, 0.1),\n",
      "[I 2024-07-25 00:52:14,521] Trial 76 finished with value: 0.7669128257363551 and parameters: {'booster': 'dart', 'max_depth': 3, 'learning_rate': 0.05663850875044858, 'subsample': 0.5758807911025586, 'colsample_bytree': 0.7742058942654926}. Best is trial 52 with value: 0.7825227060521178.\n",
      "/tmp/ipykernel_9081/713915592.py:7: FutureWarning: suggest_loguniform has been deprecated in v3.0.0. This feature will be removed in v6.0.0. See https://github.com/optuna/optuna/releases/tag/v3.0.0. Use suggest_float(..., log=True) instead.\n",
      "  'learning_rate': trial.suggest_loguniform('learning_rate', 0.01, 0.1),\n",
      "[I 2024-07-25 00:52:20,793] Trial 77 finished with value: 0.7708259061200238 and parameters: {'booster': 'dart', 'max_depth': 3, 'learning_rate': 0.04732733497933788, 'subsample': 0.5864765238146175, 'colsample_bytree': 0.8041049787292625}. Best is trial 52 with value: 0.7825227060521178.\n",
      "/tmp/ipykernel_9081/713915592.py:7: FutureWarning: suggest_loguniform has been deprecated in v3.0.0. This feature will be removed in v6.0.0. See https://github.com/optuna/optuna/releases/tag/v3.0.0. Use suggest_float(..., log=True) instead.\n",
      "  'learning_rate': trial.suggest_loguniform('learning_rate', 0.01, 0.1),\n"
     ]
    },
    {
     "name": "stderr",
     "output_type": "stream",
     "text": [
      "[I 2024-07-25 00:52:26,974] Trial 78 finished with value: 0.7786181139122316 and parameters: {'booster': 'dart', 'max_depth': 3, 'learning_rate': 0.038289916037240364, 'subsample': 0.9733565948896906, 'colsample_bytree': 0.7533211435537842}. Best is trial 52 with value: 0.7825227060521178.\n",
      "/tmp/ipykernel_9081/713915592.py:7: FutureWarning: suggest_loguniform has been deprecated in v3.0.0. This feature will be removed in v6.0.0. See https://github.com/optuna/optuna/releases/tag/v3.0.0. Use suggest_float(..., log=True) instead.\n",
      "  'learning_rate': trial.suggest_loguniform('learning_rate', 0.01, 0.1),\n",
      "[I 2024-07-25 00:52:32,430] Trial 79 finished with value: 0.7773194126135303 and parameters: {'booster': 'dart', 'max_depth': 3, 'learning_rate': 0.035673413727511434, 'subsample': 0.9780506687837102, 'colsample_bytree': 0.7595579305254834}. Best is trial 52 with value: 0.7825227060521178.\n",
      "/tmp/ipykernel_9081/713915592.py:7: FutureWarning: suggest_loguniform has been deprecated in v3.0.0. This feature will be removed in v6.0.0. See https://github.com/optuna/optuna/releases/tag/v3.0.0. Use suggest_float(..., log=True) instead.\n",
      "  'learning_rate': trial.suggest_loguniform('learning_rate', 0.01, 0.1),\n",
      "[I 2024-07-25 00:52:32,849] Trial 80 finished with value: 0.772099142687378 and parameters: {'booster': 'gbtree', 'max_depth': 3, 'learning_rate': 0.03758002165110792, 'subsample': 0.9749376054381971, 'colsample_bytree': 0.7570703117641745}. Best is trial 52 with value: 0.7825227060521178.\n",
      "/tmp/ipykernel_9081/713915592.py:7: FutureWarning: suggest_loguniform has been deprecated in v3.0.0. This feature will be removed in v6.0.0. See https://github.com/optuna/optuna/releases/tag/v3.0.0. Use suggest_float(..., log=True) instead.\n",
      "  'learning_rate': trial.suggest_loguniform('learning_rate', 0.01, 0.1),\n",
      "[I 2024-07-25 00:52:39,507] Trial 81 finished with value: 0.7786181139122317 and parameters: {'booster': 'dart', 'max_depth': 3, 'learning_rate': 0.031409758350853204, 'subsample': 0.9831923767679194, 'colsample_bytree': 0.778386957410378}. Best is trial 52 with value: 0.7825227060521178.\n",
      "/tmp/ipykernel_9081/713915592.py:7: FutureWarning: suggest_loguniform has been deprecated in v3.0.0. This feature will be removed in v6.0.0. See https://github.com/optuna/optuna/releases/tag/v3.0.0. Use suggest_float(..., log=True) instead.\n",
      "  'learning_rate': trial.suggest_loguniform('learning_rate', 0.01, 0.1),\n",
      "[I 2024-07-25 00:52:47,125] Trial 82 finished with value: 0.7773109243697479 and parameters: {'booster': 'dart', 'max_depth': 3, 'learning_rate': 0.03175947257382442, 'subsample': 0.9477987114228802, 'colsample_bytree': 0.7788226884718549}. Best is trial 52 with value: 0.7825227060521178.\n",
      "/tmp/ipykernel_9081/713915592.py:7: FutureWarning: suggest_loguniform has been deprecated in v3.0.0. This feature will be removed in v6.0.0. See https://github.com/optuna/optuna/releases/tag/v3.0.0. Use suggest_float(..., log=True) instead.\n",
      "  'learning_rate': trial.suggest_loguniform('learning_rate', 0.01, 0.1),\n",
      "[I 2024-07-25 00:53:08,380] Trial 83 finished with value: 0.7760037348272644 and parameters: {'booster': 'dart', 'max_depth': 3, 'learning_rate': 0.031956792419011976, 'subsample': 0.9818229415263233, 'colsample_bytree': 0.7690372601612137}. Best is trial 52 with value: 0.7825227060521178.\n",
      "/tmp/ipykernel_9081/713915592.py:7: FutureWarning: suggest_loguniform has been deprecated in v3.0.0. This feature will be removed in v6.0.0. See https://github.com/optuna/optuna/releases/tag/v3.0.0. Use suggest_float(..., log=True) instead.\n",
      "  'learning_rate': trial.suggest_loguniform('learning_rate', 0.01, 0.1),\n",
      "[I 2024-07-25 00:53:16,431] Trial 84 finished with value: 0.7734063322298617 and parameters: {'booster': 'dart', 'max_depth': 3, 'learning_rate': 0.03527623383979476, 'subsample': 0.9547352875459788, 'colsample_bytree': 0.7908258571943606}. Best is trial 52 with value: 0.7825227060521178.\n",
      "/tmp/ipykernel_9081/713915592.py:7: FutureWarning: suggest_loguniform has been deprecated in v3.0.0. This feature will be removed in v6.0.0. See https://github.com/optuna/optuna/releases/tag/v3.0.0. Use suggest_float(..., log=True) instead.\n",
      "  'learning_rate': trial.suggest_loguniform('learning_rate', 0.01, 0.1),\n",
      "[I 2024-07-25 00:53:25,036] Trial 85 finished with value: 0.773414820473644 and parameters: {'booster': 'dart', 'max_depth': 3, 'learning_rate': 0.03916841912856821, 'subsample': 0.9299603531838426, 'colsample_bytree': 0.8102098977657426}. Best is trial 52 with value: 0.7825227060521178.\n",
      "/tmp/ipykernel_9081/713915592.py:7: FutureWarning: suggest_loguniform has been deprecated in v3.0.0. This feature will be removed in v6.0.0. See https://github.com/optuna/optuna/releases/tag/v3.0.0. Use suggest_float(..., log=True) instead.\n",
      "  'learning_rate': trial.suggest_loguniform('learning_rate', 0.01, 0.1),\n",
      "[I 2024-07-25 00:53:30,650] Trial 86 finished with value: 0.7773279008573126 and parameters: {'booster': 'dart', 'max_depth': 3, 'learning_rate': 0.034264615739679205, 'subsample': 0.9096364697557567, 'colsample_bytree': 0.7535143153925002}. Best is trial 52 with value: 0.7825227060521178.\n",
      "/tmp/ipykernel_9081/713915592.py:7: FutureWarning: suggest_loguniform has been deprecated in v3.0.0. This feature will be removed in v6.0.0. See https://github.com/optuna/optuna/releases/tag/v3.0.0. Use suggest_float(..., log=True) instead.\n",
      "  'learning_rate': trial.suggest_loguniform('learning_rate', 0.01, 0.1),\n",
      "[I 2024-07-25 00:53:37,662] Trial 87 finished with value: 0.7760122230710467 and parameters: {'booster': 'dart', 'max_depth': 3, 'learning_rate': 0.03060758616193466, 'subsample': 0.9133596283261548, 'colsample_bytree': 0.7357406968340567}. Best is trial 52 with value: 0.7825227060521178.\n",
      "/tmp/ipykernel_9081/713915592.py:7: FutureWarning: suggest_loguniform has been deprecated in v3.0.0. This feature will be removed in v6.0.0. See https://github.com/optuna/optuna/releases/tag/v3.0.0. Use suggest_float(..., log=True) instead.\n",
      "  'learning_rate': trial.suggest_loguniform('learning_rate', 0.01, 0.1),\n",
      "[I 2024-07-25 00:53:43,676] Trial 88 finished with value: 0.7721076309311604 and parameters: {'booster': 'dart', 'max_depth': 3, 'learning_rate': 0.03494464393300465, 'subsample': 0.940658563135443, 'colsample_bytree': 0.7802238103959649}. Best is trial 52 with value: 0.7825227060521178.\n",
      "/tmp/ipykernel_9081/713915592.py:7: FutureWarning: suggest_loguniform has been deprecated in v3.0.0. This feature will be removed in v6.0.0. See https://github.com/optuna/optuna/releases/tag/v3.0.0. Use suggest_float(..., log=True) instead.\n",
      "  'learning_rate': trial.suggest_loguniform('learning_rate', 0.01, 0.1),\n",
      "[I 2024-07-25 00:53:52,574] Trial 89 finished with value: 0.7760122230710466 and parameters: {'booster': 'dart', 'max_depth': 3, 'learning_rate': 0.03904461611617134, 'subsample': 0.960813376277497, 'colsample_bytree': 0.7522251211110805}. Best is trial 52 with value: 0.7825227060521178.\n",
      "/tmp/ipykernel_9081/713915592.py:7: FutureWarning: suggest_loguniform has been deprecated in v3.0.0. This feature will be removed in v6.0.0. See https://github.com/optuna/optuna/releases/tag/v3.0.0. Use suggest_float(..., log=True) instead.\n",
      "  'learning_rate': trial.suggest_loguniform('learning_rate', 0.01, 0.1),\n",
      "[I 2024-07-25 00:54:00,506] Trial 90 finished with value: 0.7707919531448943 and parameters: {'booster': 'dart', 'max_depth': 3, 'learning_rate': 0.03304262069373566, 'subsample': 0.9087199511656099, 'colsample_bytree': 0.8221116977810229}. Best is trial 52 with value: 0.7825227060521178.\n",
      "/tmp/ipykernel_9081/713915592.py:7: FutureWarning: suggest_loguniform has been deprecated in v3.0.0. This feature will be removed in v6.0.0. See https://github.com/optuna/optuna/releases/tag/v3.0.0. Use suggest_float(..., log=True) instead.\n",
      "  'learning_rate': trial.suggest_loguniform('learning_rate', 0.01, 0.1),\n",
      "[I 2024-07-25 00:54:11,279] Trial 91 finished with value: 0.7786096256684493 and parameters: {'booster': 'dart', 'max_depth': 3, 'learning_rate': 0.0370773520046433, 'subsample': 0.9879609146110335, 'colsample_bytree': 0.7658299267116858}. Best is trial 52 with value: 0.7825227060521178.\n",
      "/tmp/ipykernel_9081/713915592.py:7: FutureWarning: suggest_loguniform has been deprecated in v3.0.0. This feature will be removed in v6.0.0. See https://github.com/optuna/optuna/releases/tag/v3.0.0. Use suggest_float(..., log=True) instead.\n",
      "  'learning_rate': trial.suggest_loguniform('learning_rate', 0.01, 0.1),\n"
     ]
    },
    {
     "name": "stderr",
     "output_type": "stream",
     "text": [
      "[I 2024-07-25 00:54:18,507] Trial 92 finished with value: 0.7798998387233681 and parameters: {'booster': 'dart', 'max_depth': 3, 'learning_rate': 0.03098244825838857, 'subsample': 0.9885166099406713, 'colsample_bytree': 0.7675878207738134}. Best is trial 52 with value: 0.7825227060521178.\n",
      "/tmp/ipykernel_9081/713915592.py:7: FutureWarning: suggest_loguniform has been deprecated in v3.0.0. This feature will be removed in v6.0.0. See https://github.com/optuna/optuna/releases/tag/v3.0.0. Use suggest_float(..., log=True) instead.\n",
      "  'learning_rate': trial.suggest_loguniform('learning_rate', 0.01, 0.1),\n",
      "[I 2024-07-25 00:54:26,255] Trial 93 finished with value: 0.7799168152109329 and parameters: {'booster': 'dart', 'max_depth': 3, 'learning_rate': 0.030757158396137046, 'subsample': 0.9878691018565925, 'colsample_bytree': 0.7659366159401436}. Best is trial 52 with value: 0.7825227060521178.\n",
      "/tmp/ipykernel_9081/713915592.py:7: FutureWarning: suggest_loguniform has been deprecated in v3.0.0. This feature will be removed in v6.0.0. See https://github.com/optuna/optuna/releases/tag/v3.0.0. Use suggest_float(..., log=True) instead.\n",
      "  'learning_rate': trial.suggest_loguniform('learning_rate', 0.01, 0.1),\n",
      "[I 2024-07-25 00:54:36,427] Trial 94 finished with value: 0.7759952465834818 and parameters: {'booster': 'dart', 'max_depth': 3, 'learning_rate': 0.02906018770907985, 'subsample': 0.9842246084752475, 'colsample_bytree': 0.7645936497473474}. Best is trial 52 with value: 0.7825227060521178.\n",
      "/tmp/ipykernel_9081/713915592.py:7: FutureWarning: suggest_loguniform has been deprecated in v3.0.0. This feature will be removed in v6.0.0. See https://github.com/optuna/optuna/releases/tag/v3.0.0. Use suggest_float(..., log=True) instead.\n",
      "  'learning_rate': trial.suggest_loguniform('learning_rate', 0.01, 0.1),\n",
      "[I 2024-07-25 00:54:46,063] Trial 95 finished with value: 0.7799253034547153 and parameters: {'booster': 'dart', 'max_depth': 3, 'learning_rate': 0.03634807266382212, 'subsample': 0.9953667703652478, 'colsample_bytree': 0.7952791022817232}. Best is trial 52 with value: 0.7825227060521178.\n",
      "/tmp/ipykernel_9081/713915592.py:7: FutureWarning: suggest_loguniform has been deprecated in v3.0.0. This feature will be removed in v6.0.0. See https://github.com/optuna/optuna/releases/tag/v3.0.0. Use suggest_float(..., log=True) instead.\n",
      "  'learning_rate': trial.suggest_loguniform('learning_rate', 0.01, 0.1),\n",
      "[I 2024-07-25 00:54:54,026] Trial 96 finished with value: 0.77473049825991 and parameters: {'booster': 'dart', 'max_depth': 3, 'learning_rate': 0.037115949952619194, 'subsample': 0.9931224946426556, 'colsample_bytree': 0.8139700410511806}. Best is trial 52 with value: 0.7825227060521178.\n",
      "/tmp/ipykernel_9081/713915592.py:7: FutureWarning: suggest_loguniform has been deprecated in v3.0.0. This feature will be removed in v6.0.0. See https://github.com/optuna/optuna/releases/tag/v3.0.0. Use suggest_float(..., log=True) instead.\n",
      "  'learning_rate': trial.suggest_loguniform('learning_rate', 0.01, 0.1),\n",
      "[I 2024-07-25 00:55:01,689] Trial 97 finished with value: 0.7734148204736441 and parameters: {'booster': 'dart', 'max_depth': 3, 'learning_rate': 0.03453450658013251, 'subsample': 0.9999376143891259, 'colsample_bytree': 0.7978295692789391}. Best is trial 52 with value: 0.7825227060521178.\n",
      "/tmp/ipykernel_9081/713915592.py:7: FutureWarning: suggest_loguniform has been deprecated in v3.0.0. This feature will be removed in v6.0.0. See https://github.com/optuna/optuna/releases/tag/v3.0.0. Use suggest_float(..., log=True) instead.\n",
      "  'learning_rate': trial.suggest_loguniform('learning_rate', 0.01, 0.1),\n",
      "[I 2024-07-25 00:55:09,380] Trial 98 finished with value: 0.7734148204736441 and parameters: {'booster': 'dart', 'max_depth': 3, 'learning_rate': 0.030131706442258602, 'subsample': 0.9787363733233507, 'colsample_bytree': 0.8458136736981569}. Best is trial 52 with value: 0.7825227060521178.\n",
      "/tmp/ipykernel_9081/713915592.py:7: FutureWarning: suggest_loguniform has been deprecated in v3.0.0. This feature will be removed in v6.0.0. See https://github.com/optuna/optuna/releases/tag/v3.0.0. Use suggest_float(..., log=True) instead.\n",
      "  'learning_rate': trial.suggest_loguniform('learning_rate', 0.01, 0.1),\n",
      "[I 2024-07-25 00:55:16,221] Trial 99 finished with value: 0.7760037348272643 and parameters: {'booster': 'dart', 'max_depth': 3, 'learning_rate': 0.04067241241851863, 'subsample': 0.9621044216021709, 'colsample_bytree': 0.7388110232425043}. Best is trial 52 with value: 0.7825227060521178.\n"
     ]
    },
    {
     "name": "stdout",
     "output_type": "stream",
     "text": [
      "Best hyperparameters for model {'booster': 'dart', 'max_depth': 4, 'learning_rate': 0.04061867273217935, 'subsample': 0.5363024811125284, 'colsample_bytree': 0.7161344232467516}\n"
     ]
    }
   ],
   "source": [
    "study = optuna.create_study(direction='maximize')\n",
    "study.optimize(objective, n_trials= 100)\n",
    "\n",
    "best_params = study.best_params\n",
    "print(f\"Best hyperparameters for model {best_params}\")"
   ]
  },
  {
   "cell_type": "code",
   "execution_count": 52,
   "id": "7f7f985d",
   "metadata": {},
   "outputs": [],
   "source": [
    "# optimized_score = score(train_x, train_y, XGBClassifier(**best_params))"
   ]
  },
  {
   "cell_type": "code",
   "execution_count": 53,
   "id": "a85e43a2",
   "metadata": {},
   "outputs": [],
   "source": [
    "# optimized_score"
   ]
  },
  {
   "cell_type": "code",
   "execution_count": null,
   "id": "94f0b655",
   "metadata": {},
   "outputs": [],
   "source": [
    "def objective(trial):\n",
    "    params = {\n",
    "        'objective': 'multi:softmax',\n",
    "        'num_class': 3,\n",
    "        'booster': trial.suggest_categorical('booster', ['gbtree', 'gblinear', 'dart']),\n",
    "        'max_depth': trial.suggest_int('max_depth', 3, 9),\n",
    "        'learning_rate': trial.suggest_loguniform('learning_rate', 0.01, 0.1),\n",
    "        'subsample': trial.suggest_float('subsample', 0.5, 1),\n",
    "        'colsample_bytree': trial.suggest_float('colsample_bytree', 0.5, 1),\n",
    "    }\n",
    "\n",
    "    model = RandomForestClassifier(**params)\n",
    "    \n",
    "    kFold = KFold(n_splits = 5, shuffle = True, random_state = 42)\n",
    "    score = cross_val_score(model, X, y, cv = kFold, scoring = \"accuracy\")\n",
    "    score = score.mean()\n",
    "    return score"
   ]
  },
  {
   "cell_type": "code",
   "execution_count": null,
   "id": "67496ab4",
   "metadata": {},
   "outputs": [],
   "source": [
    "# study = optuna.create_study(direction='maximize')\n",
    "# study.optimize(objective, n_trials=100)\n",
    "\n",
    "# best_params = study.best_params\n",
    "# print(f\"Best hyperparameters for model_1 {best_params}\")"
   ]
  },
  {
   "cell_type": "code",
   "execution_count": 66,
   "id": "68423231",
   "metadata": {},
   "outputs": [
    {
     "data": {
      "text/plain": [
       "0.5989583333333334"
      ]
     },
     "execution_count": 66,
     "metadata": {},
     "output_type": "execute_result"
    }
   ],
   "source": [
    "accuracy_score(test_y, prediction)"
   ]
  },
  {
   "cell_type": "code",
   "execution_count": 67,
   "id": "82b2c0a9",
   "metadata": {},
   "outputs": [],
   "source": [
    "fpr, tpr, thresholds= roc_curve(test_y, prediction)"
   ]
  },
  {
   "cell_type": "code",
   "execution_count": 68,
   "id": "01f87912",
   "metadata": {},
   "outputs": [
    {
     "data": {
      "text/plain": [
       "0.5266749379652605"
      ]
     },
     "execution_count": 68,
     "metadata": {},
     "output_type": "execute_result"
    }
   ],
   "source": [
    "roc_auc_score(test_y, prediction)"
   ]
  },
  {
   "cell_type": "code",
   "execution_count": 69,
   "id": "f95791e2",
   "metadata": {},
   "outputs": [
    {
     "data": {
      "text/plain": [
       "Text(0, 0.5, 'True Positive Rate')"
      ]
     },
     "execution_count": 69,
     "metadata": {},
     "output_type": "execute_result"
    },
    {
     "data": {
      "image/png": "[encoded data removed]",
      "text/plain": [
       "<Figure size 640x480 with 1 Axes>"
      ]
     },
     "metadata": {},
     "output_type": "display_data"
    }
   ],
   "source": [
    "plt.plot(fpr, tpr)\n",
    "plt.xlabel('False Positive Rate')\n",
    "plt.ylabel('True Positive Rate')"
   ]
  },
  {
   "cell_type": "code",
   "execution_count": 70,
   "id": "0defdbb3",
   "metadata": {},
   "outputs": [
    {
     "data": {
      "text/plain": [
       "0.7708333333333334"
      ]
     },
     "execution_count": 70,
     "metadata": {},
     "output_type": "execute_result"
    }
   ],
   "source": [
    "accuracy_score(test_y, prediction_1)"
   ]
  },
  {
   "cell_type": "code",
   "execution_count": 71,
   "id": "775e5455",
   "metadata": {},
   "outputs": [],
   "source": [
    "fpr, tpr, thresholds= roc_curve(test_y, prediction_1)"
   ]
  },
  {
   "cell_type": "code",
   "execution_count": 72,
   "id": "b1a951d6",
   "metadata": {},
   "outputs": [
    {
     "data": {
      "text/plain": [
       "0.7295285359801489"
      ]
     },
     "execution_count": 72,
     "metadata": {},
     "output_type": "execute_result"
    }
   ],
   "source": [
    "roc_auc_score(test_y, prediction_1)"
   ]
  },
  {
   "cell_type": "code",
   "execution_count": 73,
   "id": "be3c4f58",
   "metadata": {},
   "outputs": [
    {
     "data": {
      "text/plain": [
       "Text(0, 0.5, 'True Positive Rate')"
      ]
     },
     "execution_count": 73,
     "metadata": {},
     "output_type": "execute_result"
    },
    {
     "data": {
      "image/png": "[encoded data removed]",
      "text/plain": [
       "<Figure size 640x480 with 1 Axes>"
      ]
     },
     "metadata": {},
     "output_type": "display_data"
    }
   ],
   "source": [
    "plt.plot(fpr, tpr)\n",
    "plt.xlabel('False Positive Rate')\n",
    "plt.ylabel('True Positive Rate')"
   ]
  },
  {
   "cell_type": "code",
   "execution_count": null,
   "id": "1ba74050",
   "metadata": {},
   "outputs": [],
   "source": []
  }
 ],
 "metadata": {
  "kernelspec": {
   "display_name": "Python 3 (ipykernel)",
   "language": "python",
   "name": "python3"
  },
  "language_info": {
   "codemirror_mode": {
    "name": "ipython",
    "version": 3
   },
   "file_extension": ".py",
   "mimetype": "text/x-python",
   "name": "python",
   "nbconvert_exporter": "python",
   "pygments_lexer": "ipython3",
   "version": "3.10.12"
  }
 },
 "nbformat": 4,
 "nbformat_minor": 5
}
